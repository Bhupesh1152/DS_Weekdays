{
 "cells": [
  {
   "cell_type": "code",
   "execution_count": 1,
   "id": "1a043390-d61a-42d3-8a19-a1fe1890dc25",
   "metadata": {},
   "outputs": [],
   "source": [
    "# 020 Ask the user to enter their first name and then display\n",
    "# the length of their name."
   ]
  },
  {
   "cell_type": "code",
   "execution_count": 2,
   "id": "4092733d-e2de-47da-950d-132fa4ca61fa",
   "metadata": {},
   "outputs": [
    {
     "name": "stdin",
     "output_type": "stream",
     "text": [
      "Enter your first name:  Amit\n"
     ]
    },
    {
     "name": "stdout",
     "output_type": "stream",
     "text": [
      "4\n"
     ]
    }
   ],
   "source": [
    "name = input(\"Enter your first name: \")\n",
    "length = len(name)\n",
    "print(length)"
   ]
  },
  {
   "cell_type": "code",
   "execution_count": 3,
   "id": "deabf7d9-9b7b-4583-96be-914deb152554",
   "metadata": {},
   "outputs": [],
   "source": [
    "# 021 Ask the user to enter their first name and then ask\n",
    "# them to enter their surname. Join them together with a\n",
    "# space between and display the name and the length of\n",
    "# whole name."
   ]
  },
  {
   "cell_type": "code",
   "execution_count": 4,
   "id": "dc8cb1b6-efce-45f3-a8ab-35e4b5628d14",
   "metadata": {},
   "outputs": [
    {
     "name": "stdin",
     "output_type": "stream",
     "text": [
      "Enter your first name:  Abhishek\n",
      "Enter your surname:  Upadhayay\n"
     ]
    },
    {
     "name": "stdout",
     "output_type": "stream",
     "text": [
      "Abhishek Upadhayay\n",
      "18\n"
     ]
    }
   ],
   "source": [
    "first_name = input(\"Enter your first name: \")\n",
    "sur_name = input(\"Enter your surname: \")\n",
    "full_name = first_name +\" \"+sur_name\n",
    "length = len(full_name)\n",
    "print(full_name)\n",
    "print(length)"
   ]
  },
  {
   "cell_type": "code",
   "execution_count": 5,
   "id": "6165d32c-f731-4441-8f94-c8d3a457fe80",
   "metadata": {},
   "outputs": [],
   "source": [
    "# 022 Ask the user to enter their first name and surname in\n",
    "# lower case. Change the case to title case and join them\n",
    "# together. Display the finished result."
   ]
  },
  {
   "cell_type": "code",
   "execution_count": 6,
   "id": "e39eec8b-178c-45d5-854d-ee5e2a47d510",
   "metadata": {},
   "outputs": [
    {
     "name": "stdin",
     "output_type": "stream",
     "text": [
      "Enter your first name in lowercase:  abhishek\n",
      "Enter your surname in lowercase:  upadhayay\n"
     ]
    },
    {
     "name": "stdout",
     "output_type": "stream",
     "text": [
      "Abhishek Upadhayay\n"
     ]
    }
   ],
   "source": [
    "firstname = input(\"Enter your first name in lowercase: \")\n",
    "surname = input(\"Enter your surname in lowercase: \")\n",
    "firstname = firstname.title()\n",
    "surname = surname.title()\n",
    "fullname = firstname +\" \"+ surname\n",
    "print(fullname)\n"
   ]
  },
  {
   "cell_type": "code",
   "execution_count": 7,
   "id": "ba3f1a2d-0da7-4bcb-ac19-d73dd9282710",
   "metadata": {},
   "outputs": [],
   "source": [
    "# 023 Ask the user to type in the first line of a nursery\n",
    "# rhyme and display the length of the string. Ask for a\n",
    "# starting number and an ending number and then display\n",
    "# just that section of the text (remember Python starts\n",
    "# counting from 0 and not 1)."
   ]
  },
  {
   "cell_type": "code",
   "execution_count": 8,
   "id": "1e9766a8-68be-4cf5-aa1a-b2488868d451",
   "metadata": {},
   "outputs": [
    {
     "name": "stdin",
     "output_type": "stream",
     "text": [
      "write the first line of a nursery rhyme:  Jhony Jhony Yes Beta\n",
      "Enter a starting number:  0\n",
      "Enter a ending number:  15\n"
     ]
    },
    {
     "name": "stdout",
     "output_type": "stream",
     "text": [
      "Jhony Jhony Yes\n"
     ]
    }
   ],
   "source": [
    "phrase = input(\"write the first line of a nursery rhyme: \")\n",
    "length = len(phrase)\n",
    "start = int(input(\"Enter a starting number: \"))\n",
    "end = int(input(\"Enter a ending number: \"))\n",
    "part = (phrase[start:end])\n",
    "print(part)"
   ]
  },
  {
   "cell_type": "code",
   "execution_count": null,
   "id": "200e64a9-1a59-4655-9b23-3fcc28378650",
   "metadata": {},
   "outputs": [],
   "source": []
  },
  {
   "cell_type": "code",
   "execution_count": null,
   "id": "14ce401f-dc47-4a0c-9bf8-28595061f6c7",
   "metadata": {},
   "outputs": [],
   "source": []
  },
  {
   "cell_type": "code",
   "execution_count": null,
   "id": "1643991c-ebc1-48cf-beed-a5a32dd83061",
   "metadata": {},
   "outputs": [],
   "source": []
  },
  {
   "cell_type": "code",
   "execution_count": null,
   "id": "a96f6363-1335-4062-9ee9-d70c5d5c1e1a",
   "metadata": {},
   "outputs": [],
   "source": []
  }
 ],
 "metadata": {
  "kernelspec": {
   "display_name": "Python 3 (ipykernel)",
   "language": "python",
   "name": "python3"
  },
  "language_info": {
   "codemirror_mode": {
    "name": "ipython",
    "version": 3
   },
   "file_extension": ".py",
   "mimetype": "text/x-python",
   "name": "python",
   "nbconvert_exporter": "python",
   "pygments_lexer": "ipython3",
   "version": "3.11.7"
  }
 },
 "nbformat": 4,
 "nbformat_minor": 5
}
