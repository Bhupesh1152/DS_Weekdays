{
 "cells": [
  {
   "cell_type": "code",
   "execution_count": 3,
   "id": "985cb9aa-b215-4c6d-bef0-8b3a88dc73a2",
   "metadata": {},
   "outputs": [],
   "source": [
    "# 001 Ask for the user’s first name and display the output message \n",
    "# Hello [First Name]."
   ]
  },
  {
   "cell_type": "code",
   "execution_count": 4,
   "id": "9159d8af-b1ce-4516-9b0e-09a80c40179e",
   "metadata": {},
   "outputs": [
    {
     "name": "stdin",
     "output_type": "stream",
     "text": [
      "Please enter your first name:  Amit\n"
     ]
    },
    {
     "name": "stdout",
     "output_type": "stream",
     "text": [
      "Hello Amit .\n"
     ]
    }
   ],
   "source": [
    "first_name = input(\"Please enter your first name: \")\n",
    "print(\"Hello\", first_name,\".\")"
   ]
  },
  {
   "cell_type": "code",
   "execution_count": 5,
   "id": "2a28356a-bdf2-49f7-bf55-fd525cfb3557",
   "metadata": {},
   "outputs": [
    {
     "name": "stdin",
     "output_type": "stream",
     "text": [
      "What is your first name?  Amit\n"
     ]
    },
    {
     "name": "stdout",
     "output_type": "stream",
     "text": [
      "Hello Amit.\n"
     ]
    }
   ],
   "source": [
    "# Ask for the user's first name\n",
    "first_name = input(\"What is your first name? \")\n",
    "\n",
    "# Display the greeting message\n",
    "print(f\"Hello {first_name}.\")\n"
   ]
  },
  {
   "cell_type": "code",
   "execution_count": 1,
   "id": "1d682934-f60b-43fb-9b47-e6abc6f4c1c4",
   "metadata": {},
   "outputs": [],
   "source": [
    "# 011 Task the user to enter a number over 100 and then enter a number under 10\n",
    "# and tell them how many times the smaller number goes into the larger number in\n",
    "# a user-friendly format."
   ]
  },
  {
   "cell_type": "code",
   "execution_count": 10,
   "id": "89011023-7b60-4aec-bf7d-96dc52d4a620",
   "metadata": {},
   "outputs": [],
   "source": [
    "# Ask the user to enter a greater no."
   ]
  },
  {
   "cell_type": "code",
   "execution_count": 2,
   "id": "fe4d872c-b0ab-47e7-a0db-79a675544077",
   "metadata": {},
   "outputs": [
    {
     "name": "stdin",
     "output_type": "stream",
     "text": [
      "Enter a number over 100:  109\n",
      "Enter a number under 10:  2\n"
     ]
    },
    {
     "name": "stdout",
     "output_type": "stream",
     "text": [
      "2 goes into 109 54 times.\n"
     ]
    }
   ],
   "source": [
    "# Sol.- 11\n",
    "\n",
    "larger = int(input(\"Enter a number over 100: \"))\n",
    "smaller = int(input(\"Enter a number under 10: \"))\n",
    "answer = larger // smaller\n",
    "print(smaller,\"goes into\", larger, answer,\"times.\")"
   ]
  },
  {
   "cell_type": "code",
   "execution_count": 6,
   "id": "6171640c-c726-4b09-9351-1bba3c1a97ca",
   "metadata": {},
   "outputs": [],
   "source": [
    "# 010 There are 2.204 pounds in a kilogram. Ask the user to enter a weight in\n",
    "# kilograms and convert it to pounds."
   ]
  },
  {
   "cell_type": "code",
   "execution_count": 5,
   "id": "0f5b6227-6728-43d7-8776-95c7fc197225",
   "metadata": {},
   "outputs": [
    {
     "name": "stdin",
     "output_type": "stream",
     "text": [
      "Enter the number of kilos:  70\n"
     ]
    },
    {
     "name": "stdout",
     "output_type": "stream",
     "text": [
      "That is 154.28 pounds.\n"
     ]
    }
   ],
   "source": [
    "# Sol. 10 -->\n",
    "kilo = int(input(\"Enter the number of kilos: \"))\n",
    "pound = kilo * 2.204\n",
    "print(\"That is\", pound,\"pounds.\")"
   ]
  },
  {
   "cell_type": "code",
   "execution_count": 7,
   "id": "ac108bba-be2c-4ad6-97ea-cefb810ba19e",
   "metadata": {},
   "outputs": [],
   "source": [
    "# 009 Write a program that will ask for a number of days and then will show how\n",
    "# many hours, minutes and seconds are in that number of days."
   ]
  },
  {
   "cell_type": "code",
   "execution_count": 10,
   "id": "919bd8ae-8cd7-4caa-ade7-42391b19f9e9",
   "metadata": {},
   "outputs": [
    {
     "name": "stdin",
     "output_type": "stream",
     "text": [
      "Enter the number of days:  24\n"
     ]
    },
    {
     "name": "stdout",
     "output_type": "stream",
     "text": [
      "In 24 days there are...\n",
      "576 hours\n",
      "34560 minutes\n",
      "2073600 seconds\n"
     ]
    }
   ],
   "source": [
    "# Sol. - 9 -->\n",
    "days = int(input(\"Enter the number of days: \"))\n",
    "hours = days * 24\n",
    "minutes = hours * 60\n",
    "seconds = minutes * 60\n",
    "print(\"In\", days,\"days there are...\")\n",
    "print(hours, \"hours\")\n",
    "print(minutes, \"minutes\")\n",
    "print(seconds, \"seconds\")  "
   ]
  },
  {
   "cell_type": "code",
   "execution_count": 11,
   "id": "b89d1e13-48a3-4a6b-8c7e-4e4d8576c9db",
   "metadata": {},
   "outputs": [],
   "source": [
    "# 007 Ask the user for their name and their age. Add 1 to their age and display the output\n",
    "# [Name] next birthday you will be [new age]."
   ]
  },
  {
   "cell_type": "code",
   "execution_count": 12,
   "id": "e3bd53ef-9da6-4cf4-aca8-61402f22e1ed",
   "metadata": {},
   "outputs": [
    {
     "name": "stdin",
     "output_type": "stream",
     "text": [
      "What is your name?  Abhishek\n",
      "How old are you?  30\n"
     ]
    },
    {
     "name": "stdout",
     "output_type": "stream",
     "text": [
      "Abhishek next birthday you will be 31\n"
     ]
    }
   ],
   "source": [
    "name = input(\"What is your name? \")\n",
    "age = int(input(\"How old are you? \"))\n",
    "New_Age = age + 1\n",
    "print(name, \"next birthday you will be\", New_Age)"
   ]
  },
  {
   "cell_type": "code",
   "execution_count": 13,
   "id": "09b4d007-0be7-4e1b-bf42-d8f3fb7f5fdd",
   "metadata": {},
   "outputs": [],
   "source": [
    "# 006 Ask how many slices of pizza the user started with and ask how many slices\n",
    "# they have eaten. Work out how many slices they have left and display the answer\n",
    "# in a user-friendly format."
   ]
  },
  {
   "cell_type": "code",
   "execution_count": 14,
   "id": "f72fe38b-5bc7-4705-ae4e-359a04f2fc86",
   "metadata": {},
   "outputs": [
    {
     "name": "stdin",
     "output_type": "stream",
     "text": [
      "Enter the number of slices of pizza you started with:  8\n",
      "How many slices have you eaten?  3\n"
     ]
    },
    {
     "name": "stdout",
     "output_type": "stream",
     "text": [
      "You have 5 slices remaining.\n"
     ]
    }
   ],
   "source": [
    "Start_Num = int(input(\"Enter the number of slices of pizza you started with: \"))\n",
    "End_Num = int(input(\"How many slices have you eaten? \"))\n",
    "Slices_Left = Start_Num - End_Num\n",
    "print(\"You have\", Slices_Left, \"slices remaining.\")"
   ]
  },
  {
   "cell_type": "code",
   "execution_count": 15,
   "id": "b73e42dc-2a05-433e-9310-cbeb2259bbcf",
   "metadata": {},
   "outputs": [],
   "source": [
    "# 003 Write code that will display the joke “What do you call a bear with no teeth?”\n",
    "# and on the next line display the answer “A gummy bear!”\n",
    "# Try to create it using only one line of code."
   ]
  }
 ],
 "metadata": {
  "kernelspec": {
   "display_name": "Python 3 (ipykernel)",
   "language": "python",
   "name": "python3"
  },
  "language_info": {
   "codemirror_mode": {
    "name": "ipython",
    "version": 3
   },
   "file_extension": ".py",
   "mimetype": "text/x-python",
   "name": "python",
   "nbconvert_exporter": "python",
   "pygments_lexer": "ipython3",
   "version": "3.11.7"
  }
 },
 "nbformat": 4,
 "nbformat_minor": 5
}
