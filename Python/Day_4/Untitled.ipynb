{
 "cells": [
  {
   "cell_type": "code",
   "execution_count": 1,
   "id": "894c5372-8645-4ea9-a3f5-74b066b03abc",
   "metadata": {},
   "outputs": [],
   "source": [
    "My_List = [1, 2.8, 3+5j, True, False, None, \"Amit\", [1, 2, 3], ('Apple', 'Cherry', 'Pineapple'), {1, 2, 3, \"Khan Academy\"}, {'Name' : \"Abhishek\"}]"
   ]
  },
  {
   "cell_type": "code",
   "execution_count": 2,
   "id": "f54f58c3-51ca-4538-9c34-a4de989fff12",
   "metadata": {},
   "outputs": [
    {
     "data": {
      "text/plain": [
       "[1,\n",
       " 2.8,\n",
       " (3+5j),\n",
       " True,\n",
       " False,\n",
       " None,\n",
       " 'Amit',\n",
       " [1, 2, 3],\n",
       " ('Apple', 'Cherry', 'Pineapple'),\n",
       " {1, 2, 3, 'Khan Academy'},\n",
       " {'Name': 'Abhishek'}]"
      ]
     },
     "execution_count": 2,
     "metadata": {},
     "output_type": "execute_result"
    }
   ],
   "source": [
    "My_List"
   ]
  },
  {
   "cell_type": "code",
   "execution_count": 3,
   "id": "9f2424dd-7743-4530-aa00-577cc68314b5",
   "metadata": {},
   "outputs": [
    {
     "name": "stdout",
     "output_type": "stream",
     "text": [
      "[1, 2.8, (3+5j), True, False, None, 'Amit', [1, 2, 3], ('Apple', 'Cherry', 'Pineapple'), {'Khan Academy', 1, 2, 3}, {'Name': 'Abhishek'}]\n"
     ]
    }
   ],
   "source": [
    "print(My_List)"
   ]
  },
  {
   "cell_type": "code",
   "execution_count": 4,
   "id": "bab979fa-4260-43d0-8558-c587e287dff7",
   "metadata": {},
   "outputs": [
    {
     "data": {
      "text/plain": [
       "11"
      ]
     },
     "execution_count": 4,
     "metadata": {},
     "output_type": "execute_result"
    }
   ],
   "source": [
    "len(My_List)"
   ]
  },
  {
   "cell_type": "code",
   "execution_count": 5,
   "id": "b0f31b06-64c2-4470-b024-9be709c11951",
   "metadata": {},
   "outputs": [
    {
     "data": {
      "text/plain": [
       "'Amit'"
      ]
     },
     "execution_count": 5,
     "metadata": {},
     "output_type": "execute_result"
    }
   ],
   "source": [
    "My_List[6]"
   ]
  },
  {
   "cell_type": "code",
   "execution_count": 6,
   "id": "8330e6c4-b07a-40c8-8c26-0f3dc3031228",
   "metadata": {},
   "outputs": [
    {
     "data": {
      "text/plain": [
       "{'Name': 'Abhishek'}"
      ]
     },
     "execution_count": 6,
     "metadata": {},
     "output_type": "execute_result"
    }
   ],
   "source": [
    "My_List[-1]"
   ]
  },
  {
   "cell_type": "code",
   "execution_count": 7,
   "id": "90340219-7210-4802-ad1c-e384a6dd66e1",
   "metadata": {},
   "outputs": [
    {
     "data": {
      "text/plain": [
       "{'Name': 'Abhishek'}"
      ]
     },
     "execution_count": 7,
     "metadata": {},
     "output_type": "execute_result"
    }
   ],
   "source": [
    "My_List[10]"
   ]
  },
  {
   "cell_type": "code",
   "execution_count": 8,
   "id": "cc6ad5a6-944a-424d-be73-1f823d87c277",
   "metadata": {},
   "outputs": [
    {
     "data": {
      "text/plain": [
       "[1, 2.8, (3+5j)]"
      ]
     },
     "execution_count": 8,
     "metadata": {},
     "output_type": "execute_result"
    }
   ],
   "source": [
    "My_List[0:3]"
   ]
  },
  {
   "cell_type": "code",
   "execution_count": 9,
   "id": "afb731dd-cb12-4c4f-a1fc-14e4999ec6e3",
   "metadata": {},
   "outputs": [
    {
     "name": "stdout",
     "output_type": "stream",
     "text": [
      "['apple', 'banana', 'cherry', 'apple', 'cherry']\n"
     ]
    }
   ],
   "source": [
    "thislist = [\"apple\", \"banana\", \"cherry\", \"apple\", \"cherry\"]\n",
    "print(thislist)"
   ]
  },
  {
   "cell_type": "code",
   "execution_count": 10,
   "id": "23ccba27-2483-4b01-8991-9336887da27c",
   "metadata": {},
   "outputs": [
    {
     "data": {
      "text/plain": [
       "5"
      ]
     },
     "execution_count": 10,
     "metadata": {},
     "output_type": "execute_result"
    }
   ],
   "source": [
    "len(thislist)"
   ]
  },
  {
   "cell_type": "code",
   "execution_count": 11,
   "id": "0205bbe0-22cb-46d5-965b-92d52e59b034",
   "metadata": {},
   "outputs": [
    {
     "name": "stdout",
     "output_type": "stream",
     "text": [
      "['apple', 'banana', 'cherry']\n"
     ]
    }
   ],
   "source": [
    "thislist = list((\"apple\", \"banana\", \"cherry\")) # note the double round-brackets\n",
    "print(thislist)"
   ]
  },
  {
   "cell_type": "code",
   "execution_count": 12,
   "id": "4b9e927e-1eba-4bda-9c30-5403bf089dc6",
   "metadata": {},
   "outputs": [
    {
     "name": "stdout",
     "output_type": "stream",
     "text": [
      "['apple', 'banana', 'cherry', 'orange']\n"
     ]
    }
   ],
   "source": [
    "thislist = [\"apple\", \"banana\", \"cherry\", \"orange\", \"kiwi\", \"melon\", \"mango\"]\n",
    "print(thislist[:4])"
   ]
  },
  {
   "cell_type": "code",
   "execution_count": 13,
   "id": "4bbcaa7c-ff9b-4527-a756-727fc1e10241",
   "metadata": {},
   "outputs": [
    {
     "data": {
      "text/plain": [
       "[1,\n",
       " 2.8,\n",
       " (3+5j),\n",
       " True,\n",
       " False,\n",
       " None,\n",
       " 'Amit',\n",
       " [1, 2, 3],\n",
       " ('Apple', 'Cherry', 'Pineapple'),\n",
       " {1, 2, 3, 'Khan Academy'},\n",
       " {'Name': 'Abhishek'}]"
      ]
     },
     "execution_count": 13,
     "metadata": {},
     "output_type": "execute_result"
    }
   ],
   "source": [
    "My_List"
   ]
  },
  {
   "cell_type": "code",
   "execution_count": 14,
   "id": "155ef14b-b6e8-4b56-b303-f559ee7ef23a",
   "metadata": {},
   "outputs": [
    {
     "name": "stdout",
     "output_type": "stream",
     "text": [
      "it is there\n"
     ]
    }
   ],
   "source": [
    "if None in My_List:\n",
    "    print(\"it is there\")\n",
    "else:\n",
    "    print(\"It's not there\")"
   ]
  },
  {
   "cell_type": "code",
   "execution_count": 15,
   "id": "c176ebc4-c0bb-4502-8762-d56525c88f25",
   "metadata": {},
   "outputs": [
    {
     "name": "stdout",
     "output_type": "stream",
     "text": [
      "It's not there\n"
     ]
    }
   ],
   "source": [
    "if \"ola\" in My_List:\n",
    "    print(\"it is there\")\n",
    "else:\n",
    "    print(\"It's not there\")"
   ]
  },
  {
   "cell_type": "code",
   "execution_count": 16,
   "id": "89fedfb7-cb6d-4e87-a38b-351bd9585ba3",
   "metadata": {},
   "outputs": [
    {
     "name": "stdout",
     "output_type": "stream",
     "text": [
      "['apple', 'blackcurrant', 'cherry']\n"
     ]
    }
   ],
   "source": [
    "thislist = [\"apple\", \"banana\", \"cherry\"]\n",
    "thislist[1] = \"blackcurrant\"\n",
    "print(thislist)"
   ]
  },
  {
   "cell_type": "code",
   "execution_count": 17,
   "id": "3e5b1ce2-3783-46f0-b597-0552b22cf1d6",
   "metadata": {},
   "outputs": [
    {
     "name": "stdout",
     "output_type": "stream",
     "text": [
      "['apple', 'blackcurrant', 'watermelon', 'orange', 'kiwi', 'mango']\n"
     ]
    }
   ],
   "source": [
    "thislist = [\"apple\", \"banana\", \"cherry\", \"orange\", \"kiwi\", \"mango\"]\n",
    "thislist[1:3] = [\"blackcurrant\", \"watermelon\"]\n",
    "print(thislist)"
   ]
  },
  {
   "cell_type": "code",
   "execution_count": 18,
   "id": "ecb552cf-21ab-4a48-83ff-42781c3202d9",
   "metadata": {},
   "outputs": [
    {
     "name": "stdout",
     "output_type": "stream",
     "text": [
      "['apple', 'blackcurrant', 'watermelon', 'cherry']\n"
     ]
    }
   ],
   "source": [
    "thislist = [\"apple\", \"banana\", \"cherry\"]\n",
    "thislist[1:2] = [\"blackcurrant\", \"watermelon\"]\n",
    "print(thislist)"
   ]
  },
  {
   "cell_type": "code",
   "execution_count": 20,
   "id": "e898feff-2739-4695-82c6-3ece2bd587e6",
   "metadata": {},
   "outputs": [
    {
     "name": "stdout",
     "output_type": "stream",
     "text": [
      "['apple', 'watermelon']\n"
     ]
    }
   ],
   "source": [
    "thislist = [\"apple\", \"banana\", \"cherry\"]\n",
    "thislist[1:3] = [\"watermelon\"]\n",
    "print(thislist)"
   ]
  },
  {
   "cell_type": "code",
   "execution_count": 21,
   "id": "68cffa6f-77f9-4527-8799-c4918f7be673",
   "metadata": {},
   "outputs": [
    {
     "name": "stdout",
     "output_type": "stream",
     "text": [
      "['apple', 'banana', 'watermelon', 'cherry']\n"
     ]
    }
   ],
   "source": [
    "thislist = [\"apple\", \"banana\", \"cherry\"]\n",
    "thislist.insert(2, \"watermelon\")\n",
    "print(thislist)"
   ]
  },
  {
   "cell_type": "code",
   "execution_count": 22,
   "id": "d570d36e-53b0-4949-b247-2f8b558ec9f1",
   "metadata": {},
   "outputs": [
    {
     "data": {
      "text/plain": [
       "[1, 2, 3]"
      ]
     },
     "execution_count": 22,
     "metadata": {},
     "output_type": "execute_result"
    }
   ],
   "source": [
    "List_1 = [1, 2, 3]\n",
    "\n",
    "List_1"
   ]
  },
  {
   "cell_type": "code",
   "execution_count": 23,
   "id": "6ca9e763-5ee2-417d-a4f0-ab14796506d2",
   "metadata": {},
   "outputs": [
    {
     "data": {
      "text/plain": [
       "[1, 2, 3, 4]"
      ]
     },
     "execution_count": 23,
     "metadata": {},
     "output_type": "execute_result"
    }
   ],
   "source": [
    "List_1.append(4)\n",
    "\n",
    "List_1"
   ]
  },
  {
   "cell_type": "code",
   "execution_count": 24,
   "id": "16aae8ee-227f-4687-a5fe-9d0c3a930adf",
   "metadata": {},
   "outputs": [
    {
     "name": "stdout",
     "output_type": "stream",
     "text": [
      "['apple', 'banana', 'cherry', 'mango', 'pineapple', 'papaya']\n"
     ]
    }
   ],
   "source": [
    "thislist = [\"apple\", \"banana\", \"cherry\"]\n",
    "tropical = [\"mango\", \"pineapple\", \"papaya\"]\n",
    "\n",
    "thislist.extend(tropical)\n",
    "print(thislist)"
   ]
  },
  {
   "cell_type": "code",
   "execution_count": 30,
   "id": "777fa462-2935-4b9b-8768-330700ede5bf",
   "metadata": {},
   "outputs": [
    {
     "name": "stdout",
     "output_type": "stream",
     "text": [
      "['apple', 'banana', 'cherry', 'kiwi', 'orange']\n"
     ]
    }
   ],
   "source": [
    "thislist = [\"apple\", \"banana\", \"cherry\"]\n",
    "thistuple = (\"kiwi\", \"orange\")\n",
    "\n",
    "thislist.extend(thistuple)\n",
    "print(thislist)"
   ]
  },
  {
   "cell_type": "code",
   "execution_count": 27,
   "id": "6c0ba14c-eea3-4066-95a4-6f7455fbbb3f",
   "metadata": {},
   "outputs": [
    {
     "data": {
      "text/plain": [
       "['apple', 'cherry', 'kiwi', 'orange']"
      ]
     },
     "execution_count": 27,
     "metadata": {},
     "output_type": "execute_result"
    }
   ],
   "source": [
    "thislist.remove(\"banana\")\n",
    "thislist"
   ]
  },
  {
   "cell_type": "code",
   "execution_count": 38,
   "id": "f917a853-6ec1-4a53-9238-880e69f82781",
   "metadata": {},
   "outputs": [
    {
     "name": "stdout",
     "output_type": "stream",
     "text": [
      "['apple', 'cherry', 'banana', 'kiwi']\n"
     ]
    }
   ],
   "source": [
    "thislist = [\"apple\", \"banana\", \"cherry\", \"banana\", \"kiwi\"]\n",
    "thislist.remove(\"banana\")\n",
    "print(thislist)"
   ]
  },
  {
   "cell_type": "code",
   "execution_count": 29,
   "id": "9fc7a198-1652-45ff-9204-bf6d6acc7b3d",
   "metadata": {},
   "outputs": [
    {
     "name": "stdout",
     "output_type": "stream",
     "text": [
      "['apple', 'cherry', 'kiwi']\n"
     ]
    }
   ],
   "source": [
    "thislist.pop(2)\n",
    "print(thislist)"
   ]
  },
  {
   "cell_type": "code",
   "execution_count": 32,
   "id": "d5aa6958-1734-4335-ad28-ac12ca19955e",
   "metadata": {},
   "outputs": [
    {
     "data": {
      "text/plain": [
       "['apple', 'cherry', 'banana', 'kiwi']"
      ]
     },
     "execution_count": 32,
     "metadata": {},
     "output_type": "execute_result"
    }
   ],
   "source": [
    "thislist.pop(1)\n",
    "thislist"
   ]
  },
  {
   "cell_type": "code",
   "execution_count": 33,
   "id": "d980ee37-b9b0-4367-8aca-2e26e19819fb",
   "metadata": {},
   "outputs": [],
   "source": [
    "del thislist[2]"
   ]
  },
  {
   "cell_type": "code",
   "execution_count": 34,
   "id": "ccca90dd-289a-4eaa-9754-0b86cbdccc73",
   "metadata": {},
   "outputs": [
    {
     "data": {
      "text/plain": [
       "['apple', 'cherry', 'kiwi']"
      ]
     },
     "execution_count": 34,
     "metadata": {},
     "output_type": "execute_result"
    }
   ],
   "source": [
    "thislist"
   ]
  },
  {
   "cell_type": "code",
   "execution_count": 35,
   "id": "050539d2-7db4-4eca-8a0c-36a9a656fe17",
   "metadata": {},
   "outputs": [],
   "source": [
    "del thislist"
   ]
  },
  {
   "cell_type": "code",
   "execution_count": 36,
   "id": "e7da9ccd-f272-402a-ba1d-e463a333a112",
   "metadata": {},
   "outputs": [
    {
     "ename": "NameError",
     "evalue": "name 'thislist' is not defined",
     "output_type": "error",
     "traceback": [
      "\u001b[1;31m---------------------------------------------------------------------------\u001b[0m",
      "\u001b[1;31mNameError\u001b[0m                                 Traceback (most recent call last)",
      "Cell \u001b[1;32mIn[36], line 1\u001b[0m\n\u001b[1;32m----> 1\u001b[0m thislist\n",
      "\u001b[1;31mNameError\u001b[0m: name 'thislist' is not defined"
     ]
    }
   ],
   "source": [
    "thislist"
   ]
  },
  {
   "cell_type": "code",
   "execution_count": 39,
   "id": "75f4fb4b-64bc-449c-9bf0-685930038d5d",
   "metadata": {},
   "outputs": [
    {
     "data": {
      "text/plain": [
       "['apple', 'cherry', 'banana', 'kiwi']"
      ]
     },
     "execution_count": 39,
     "metadata": {},
     "output_type": "execute_result"
    }
   ],
   "source": [
    "thislist"
   ]
  },
  {
   "cell_type": "code",
   "execution_count": 40,
   "id": "6bda70a1-bb4a-416b-953c-6810d9283004",
   "metadata": {},
   "outputs": [
    {
     "data": {
      "text/plain": [
       "[]"
      ]
     },
     "execution_count": 40,
     "metadata": {},
     "output_type": "execute_result"
    }
   ],
   "source": [
    "thislist.clear()\n",
    "\n",
    "thislist"
   ]
  }
 ],
 "metadata": {
  "kernelspec": {
   "display_name": "Python 3 (ipykernel)",
   "language": "python",
   "name": "python3"
  },
  "language_info": {
   "codemirror_mode": {
    "name": "ipython",
    "version": 3
   },
   "file_extension": ".py",
   "mimetype": "text/x-python",
   "name": "python",
   "nbconvert_exporter": "python",
   "pygments_lexer": "ipython3",
   "version": "3.11.7"
  }
 },
 "nbformat": 4,
 "nbformat_minor": 5
}
