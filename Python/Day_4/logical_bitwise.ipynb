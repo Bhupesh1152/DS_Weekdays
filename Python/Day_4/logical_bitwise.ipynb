{
 "cells": [
  {
   "cell_type": "code",
   "execution_count": 1,
   "id": "4a420860-8f04-4bf1-a8c3-67257571cc1f",
   "metadata": {},
   "outputs": [
    {
     "data": {
      "text/plain": [
       "True"
      ]
     },
     "execution_count": 1,
     "metadata": {},
     "output_type": "execute_result"
    }
   ],
   "source": [
    "4 < 5"
   ]
  },
  {
   "cell_type": "code",
   "execution_count": 2,
   "id": "96472bb1-422d-4da5-8d5a-cc24bbd2763c",
   "metadata": {},
   "outputs": [
    {
     "data": {
      "text/plain": [
       "True"
      ]
     },
     "execution_count": 2,
     "metadata": {},
     "output_type": "execute_result"
    }
   ],
   "source": [
    "4<5 and 5==5"
   ]
  },
  {
   "cell_type": "code",
   "execution_count": 3,
   "id": "444c7ce6-32a4-4b02-b017-e48fb3f4cfd6",
   "metadata": {},
   "outputs": [
    {
     "data": {
      "text/plain": [
       "False"
      ]
     },
     "execution_count": 3,
     "metadata": {},
     "output_type": "execute_result"
    }
   ],
   "source": [
    "3 > 5 and 6 > 5"
   ]
  },
  {
   "cell_type": "code",
   "execution_count": 4,
   "id": "28fd5299-18ea-4983-a45d-633e6c2f0308",
   "metadata": {},
   "outputs": [
    {
     "data": {
      "text/plain": [
       "False"
      ]
     },
     "execution_count": 4,
     "metadata": {},
     "output_type": "execute_result"
    }
   ],
   "source": [
    "6 > 4 and 2 > 10"
   ]
  },
  {
   "cell_type": "code",
   "execution_count": 5,
   "id": "5894855a-64e0-46e4-9ebf-76564a9b8142",
   "metadata": {},
   "outputs": [
    {
     "data": {
      "text/plain": [
       "True"
      ]
     },
     "execution_count": 5,
     "metadata": {},
     "output_type": "execute_result"
    }
   ],
   "source": [
    "6 > 4 or 2 > 10"
   ]
  },
  {
   "cell_type": "code",
   "execution_count": 6,
   "id": "289cdee8-7082-4f79-86a2-9ddfcf5985a8",
   "metadata": {},
   "outputs": [],
   "source": [
    "x = 5"
   ]
  },
  {
   "cell_type": "code",
   "execution_count": 7,
   "id": "803b85e5-0cab-4d33-94c9-3f780d8cf9d0",
   "metadata": {},
   "outputs": [
    {
     "name": "stdout",
     "output_type": "stream",
     "text": [
      "5\n"
     ]
    }
   ],
   "source": [
    "print(x)"
   ]
  },
  {
   "cell_type": "code",
   "execution_count": 8,
   "id": "10ded9e4-29f9-4f38-bd99-4c022979e647",
   "metadata": {},
   "outputs": [
    {
     "name": "stdout",
     "output_type": "stream",
     "text": [
      "Pankhuri\n"
     ]
    }
   ],
   "source": [
    "print(\"Pankhuri\")"
   ]
  },
  {
   "cell_type": "code",
   "execution_count": 9,
   "id": "77a2668f-9b7c-4501-ae77-48f9b00f920e",
   "metadata": {},
   "outputs": [
    {
     "name": "stdout",
     "output_type": "stream",
     "text": [
      "5\n"
     ]
    }
   ],
   "source": [
    "print(x)"
   ]
  },
  {
   "cell_type": "code",
   "execution_count": 10,
   "id": "ccad73b7-03d7-4c64-8555-b97c0d9b0cad",
   "metadata": {},
   "outputs": [
    {
     "name": "stdout",
     "output_type": "stream",
     "text": [
      "140726201533352\n"
     ]
    }
   ],
   "source": [
    "print(id(x))"
   ]
  },
  {
   "cell_type": "code",
   "execution_count": 11,
   "id": "fabf7a7b-76a2-42ac-b708-d0ea7fa1aaf6",
   "metadata": {},
   "outputs": [
    {
     "name": "stdout",
     "output_type": "stream",
     "text": [
      "True\n"
     ]
    }
   ],
   "source": [
    "x = 5\n",
    "\n",
    "\n",
    "print(x > 3 and x < 10)\n",
    "\n",
    "# returns True because 5 is greater than 3 AND 5 is less than 10"
   ]
  },
  {
   "cell_type": "code",
   "execution_count": 12,
   "id": "62946053-fa50-4abc-8153-f1f4752f1800",
   "metadata": {},
   "outputs": [
    {
     "data": {
      "text/plain": [
       "1"
      ]
     },
     "execution_count": 12,
     "metadata": {},
     "output_type": "execute_result"
    }
   ],
   "source": [
    "3 & 5"
   ]
  },
  {
   "cell_type": "code",
   "execution_count": 13,
   "id": "8133a3b6-27da-4293-af2d-6a2ae8b11466",
   "metadata": {},
   "outputs": [
    {
     "data": {
      "text/plain": [
       "7"
      ]
     },
     "execution_count": 13,
     "metadata": {},
     "output_type": "execute_result"
    }
   ],
   "source": [
    "3 | 5"
   ]
  },
  {
   "cell_type": "code",
   "execution_count": 1,
   "id": "ada3175e-e4d4-4ebd-a0e9-e270cbe611fa",
   "metadata": {},
   "outputs": [
    {
     "data": {
      "text/plain": [
       "4"
      ]
     },
     "execution_count": 1,
     "metadata": {},
     "output_type": "execute_result"
    }
   ],
   "source": [
    "4 & 5"
   ]
  },
  {
   "cell_type": "code",
   "execution_count": 2,
   "id": "c76611aa-7701-4842-8c6a-8e5c222c507a",
   "metadata": {},
   "outputs": [
    {
     "data": {
      "text/plain": [
       "5"
      ]
     },
     "execution_count": 2,
     "metadata": {},
     "output_type": "execute_result"
    }
   ],
   "source": [
    "4 | 5"
   ]
  },
  {
   "cell_type": "code",
   "execution_count": 3,
   "id": "08a7c3a1-3987-4165-89ec-d2c2555546f5",
   "metadata": {},
   "outputs": [
    {
     "data": {
      "text/plain": [
       "1"
      ]
     },
     "execution_count": 3,
     "metadata": {},
     "output_type": "execute_result"
    }
   ],
   "source": [
    "4 ^ 5"
   ]
  },
  {
   "cell_type": "code",
   "execution_count": 1,
   "id": "c7499434-e0f8-4c50-a37a-03f9a5617d69",
   "metadata": {},
   "outputs": [
    {
     "data": {
      "text/plain": [
       "-5"
      ]
     },
     "execution_count": 1,
     "metadata": {},
     "output_type": "execute_result"
    }
   ],
   "source": [
    "~4"
   ]
  },
  {
   "cell_type": "code",
   "execution_count": 5,
   "id": "e92afa42-64f9-4917-9119-a18786c3a06e",
   "metadata": {},
   "outputs": [
    {
     "data": {
      "text/plain": [
       "16"
      ]
     },
     "execution_count": 5,
     "metadata": {},
     "output_type": "execute_result"
    }
   ],
   "source": [
    "# Left shift -- Digits(zeros) are added to the right and then calculations will be done\n",
    "4 << 2"
   ]
  },
  {
   "cell_type": "code",
   "execution_count": 6,
   "id": "d066b79d-82ed-4180-8996-2d2fc95599d2",
   "metadata": {},
   "outputs": [
    {
     "data": {
      "text/plain": [
       "1"
      ]
     },
     "execution_count": 6,
     "metadata": {},
     "output_type": "execute_result"
    }
   ],
   "source": [
    "# Right shift --- Digits are removed from right and then calculations will be done\n",
    "4 >> 2"
   ]
  },
  {
   "cell_type": "code",
   "execution_count": 7,
   "id": "b071a6f9-bab9-42db-baf3-829abe359dea",
   "metadata": {},
   "outputs": [
    {
     "data": {
      "text/plain": [
       "9"
      ]
     },
     "execution_count": 7,
     "metadata": {},
     "output_type": "execute_result"
    }
   ],
   "source": [
    "# Assignment\n",
    "\n",
    "a = 6\n",
    "\n",
    "a += 3\n",
    "\n",
    "a"
   ]
  },
  {
   "cell_type": "code",
   "execution_count": 8,
   "id": "e6f676c1-5b3d-485b-a090-862371e74d71",
   "metadata": {},
   "outputs": [
    {
     "data": {
      "text/plain": [
       "7"
      ]
     },
     "execution_count": 8,
     "metadata": {},
     "output_type": "execute_result"
    }
   ],
   "source": [
    "a -= 2\n",
    "a"
   ]
  },
  {
   "cell_type": "code",
   "execution_count": 1,
   "id": "d44cb35e-4a97-419e-a881-471396b40362",
   "metadata": {},
   "outputs": [
    {
     "data": {
      "text/plain": [
       "-5"
      ]
     },
     "execution_count": 1,
     "metadata": {},
     "output_type": "execute_result"
    }
   ],
   "source": [
    "c = 4\n",
    "~c"
   ]
  },
  {
   "cell_type": "code",
   "execution_count": 2,
   "id": "99367a7c-9c38-46da-aee9-20e7b8ebbd41",
   "metadata": {},
   "outputs": [
    {
     "data": {
      "text/plain": [
       "28"
      ]
     },
     "execution_count": 2,
     "metadata": {},
     "output_type": "execute_result"
    }
   ],
   "source": [
    "7 << 2"
   ]
  },
  {
   "cell_type": "code",
   "execution_count": 3,
   "id": "059b65ab-4868-4366-8bc7-8ad0ab00ae46",
   "metadata": {},
   "outputs": [
    {
     "data": {
      "text/plain": [
       "0"
      ]
     },
     "execution_count": 3,
     "metadata": {},
     "output_type": "execute_result"
    }
   ],
   "source": [
    "7 >> 3"
   ]
  },
  {
   "cell_type": "code",
   "execution_count": 4,
   "id": "117060cb-8e13-4d0b-818b-430a71609d94",
   "metadata": {},
   "outputs": [
    {
     "data": {
      "text/plain": [
       "1"
      ]
     },
     "execution_count": 4,
     "metadata": {},
     "output_type": "execute_result"
    }
   ],
   "source": [
    "7 >> 2"
   ]
  },
  {
   "cell_type": "code",
   "execution_count": 5,
   "id": "9eef7228-7395-4f8c-99b6-8f55bc820b24",
   "metadata": {},
   "outputs": [
    {
     "data": {
      "text/plain": [
       "4"
      ]
     },
     "execution_count": 5,
     "metadata": {},
     "output_type": "execute_result"
    }
   ],
   "source": [
    "c"
   ]
  }
 ],
 "metadata": {
  "kernelspec": {
   "display_name": "Python 3 (ipykernel)",
   "language": "python",
   "name": "python3"
  },
  "language_info": {
   "codemirror_mode": {
    "name": "ipython",
    "version": 3
   },
   "file_extension": ".py",
   "mimetype": "text/x-python",
   "name": "python",
   "nbconvert_exporter": "python",
   "pygments_lexer": "ipython3",
   "version": "3.11.7"
  }
 },
 "nbformat": 4,
 "nbformat_minor": 5
}
