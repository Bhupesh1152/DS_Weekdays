{
 "cells": [
  {
   "cell_type": "code",
   "execution_count": 1,
   "id": "3f319548-dccb-4264-ad79-c505c66dbe3e",
   "metadata": {},
   "outputs": [
    {
     "name": "stdout",
     "output_type": "stream",
     "text": [
      "False\n",
      "False\n",
      "False\n",
      "False\n",
      "False\n",
      "False\n",
      "False\n"
     ]
    }
   ],
   "source": [
    "print(bool(False))\n",
    "print(bool(None))\n",
    "print(bool(0))\n",
    "print(bool(\"\"))\n",
    "print(bool(()))\n",
    "print(bool([]))\n",
    "print(bool({}))"
   ]
  },
  {
   "cell_type": "code",
   "execution_count": 3,
   "id": "2d0a957d-de5d-4679-bdee-eeef944558db",
   "metadata": {},
   "outputs": [
    {
     "name": "stdout",
     "output_type": "stream",
     "text": [
      "True\n"
     ]
    }
   ],
   "source": [
    "print(bool(189))"
   ]
  }
 ],
 "metadata": {
  "kernelspec": {
   "display_name": "Python 3 (ipykernel)",
   "language": "python",
   "name": "python3"
  },
  "language_info": {
   "codemirror_mode": {
    "name": "ipython",
    "version": 3
   },
   "file_extension": ".py",
   "mimetype": "text/x-python",
   "name": "python",
   "nbconvert_exporter": "python",
   "pygments_lexer": "ipython3",
   "version": "3.11.7"
  }
 },
 "nbformat": 4,
 "nbformat_minor": 5
}
