{
 "cells": [
  {
   "cell_type": "code",
   "execution_count": 29,
   "id": "c6988f14-277c-45e9-ab81-5a6db5321e13",
   "metadata": {},
   "outputs": [],
   "source": [
    "# Comparison \n",
    "\n",
    "a = 5\n",
    "\n",
    "b = 3"
   ]
  },
  {
   "cell_type": "code",
   "execution_count": 10,
   "id": "20d99175-e089-4e8c-bd0f-636d6be5fc25",
   "metadata": {},
   "outputs": [
    {
     "name": "stdout",
     "output_type": "stream",
     "text": [
      "False\n"
     ]
    }
   ],
   "source": [
    "# is equal to\n",
    "print(a == b)"
   ]
  },
  {
   "cell_type": "code",
   "execution_count": 11,
   "id": "e2d45c92-ddcb-4f7c-b3ff-d47d3ba833d9",
   "metadata": {},
   "outputs": [
    {
     "data": {
      "text/plain": [
       "True"
      ]
     },
     "execution_count": 11,
     "metadata": {},
     "output_type": "execute_result"
    }
   ],
   "source": [
    "# Greater than\n",
    "a > b"
   ]
  },
  {
   "cell_type": "code",
   "execution_count": 12,
   "id": "5ad77b38-97ba-4d2a-8d4d-3189abf1abff",
   "metadata": {},
   "outputs": [
    {
     "data": {
      "text/plain": [
       "False"
      ]
     },
     "execution_count": 12,
     "metadata": {},
     "output_type": "execute_result"
    }
   ],
   "source": [
    "# Less Than\n",
    "a < b"
   ]
  },
  {
   "cell_type": "code",
   "execution_count": 13,
   "id": "b93be9a6-4e48-4cfb-b687-54f1a44efee0",
   "metadata": {},
   "outputs": [
    {
     "data": {
      "text/plain": [
       "True"
      ]
     },
     "execution_count": 13,
     "metadata": {},
     "output_type": "execute_result"
    }
   ],
   "source": [
    "# Greater than and equal to\n",
    "a >= b"
   ]
  },
  {
   "cell_type": "code",
   "execution_count": 14,
   "id": "131ebe23-080e-4dcb-9b47-f52179b9e53a",
   "metadata": {},
   "outputs": [
    {
     "data": {
      "text/plain": [
       "False"
      ]
     },
     "execution_count": 14,
     "metadata": {},
     "output_type": "execute_result"
    }
   ],
   "source": [
    "# Less than and equal to\n",
    "a <= b"
   ]
  },
  {
   "cell_type": "code",
   "execution_count": 15,
   "id": "82445f4e-78aa-4d52-8869-50cdb128b014",
   "metadata": {},
   "outputs": [
    {
     "data": {
      "text/plain": [
       "True"
      ]
     },
     "execution_count": 15,
     "metadata": {},
     "output_type": "execute_result"
    }
   ],
   "source": [
    "# Not Equal to\n",
    "a != b"
   ]
  },
  {
   "cell_type": "code",
   "execution_count": 9,
   "id": "e37368ee-3b77-4a1e-a4ca-5b5856112c3a",
   "metadata": {},
   "outputs": [
    {
     "name": "stdout",
     "output_type": "stream",
     "text": [
      "True\n",
      "False\n",
      "True\n",
      "1330641322688\n",
      "1330641304960\n",
      "1330641322688\n"
     ]
    }
   ],
   "source": [
    "# Identity Operators\n",
    "\n",
    "x = [\"apple\", \"banana\"]\n",
    "y = [\"apple\", \"banana\"]\n",
    "z = x\n",
    "\n",
    "print(x is z)\n",
    "\n",
    "# returns True because z is the same object as x\n",
    "\n",
    "print(x is y)\n",
    "\n",
    "# returns False because x is not the same object as y, even if they have the same content\n",
    "\n",
    "print(x == y)\n",
    "\n",
    "# to demonstrate the difference betweeen \"is\" and \"==\": this comparison returns True because x is equal to y\n",
    "\n",
    "print(id(x))\n",
    "print(id(y))\n",
    "print(id(z))"
   ]
  },
  {
   "cell_type": "code",
   "execution_count": 16,
   "id": "bdb547d9-c6e6-4fd9-ada9-089e9bf9fc65",
   "metadata": {},
   "outputs": [
    {
     "name": "stdout",
     "output_type": "stream",
     "text": [
      "False\n",
      "True\n",
      "False\n"
     ]
    }
   ],
   "source": [
    "x = [\"apple\", \"banana\"]\n",
    "y = [\"apple\", \"banana\"]\n",
    "z = x\n",
    "\n",
    "print(x is not z)\n",
    "\n",
    "# returns False because z is the same object as x\n",
    "\n",
    "print(x is not y)\n",
    "\n",
    "# returns True because x is not the same object as y, even if they have the same content\n",
    "\n",
    "print(x != y)\n",
    "\n",
    "# to demonstrate the difference betweeen \"is not\" and \"!=\": this comparison returns False because x is equal to y"
   ]
  },
  {
   "cell_type": "code",
   "execution_count": 18,
   "id": "2032e227-b568-46a1-986f-5106d3b4c167",
   "metadata": {},
   "outputs": [
    {
     "name": "stdout",
     "output_type": "stream",
     "text": [
      "True\n",
      "True\n"
     ]
    }
   ],
   "source": [
    "# Membership Operators\n",
    "\n",
    "x = [\"apple\", \"banana\"]\n",
    "\n",
    "print(\"banana\" in x)\n",
    "\n",
    "print('Litchi' not in x)\n",
    "\n",
    "# returns True because a sequence with the value \"banana\" is in the list"
   ]
  },
  {
   "cell_type": "code",
   "execution_count": 19,
   "id": "e2a6b2d5-30db-4f69-9ff9-81f7d1082586",
   "metadata": {},
   "outputs": [],
   "source": [
    "# The Basic three logical operators are:\n",
    "\n",
    "# Conjunction (AND) Operators\n",
    "# Disjunction (OR) Operators\n",
    "# Negation (NOT) Operators\n",
    "\n",
    "# Conjunction (AND) Operators\n",
    "# A conjunction is formed by joining two statements with “and,” which means that both statements must be true for \n",
    "# the entire compound statement to be true. Conjunctions are represented by the letter wedge.\n",
    "\n",
    "\n",
    "# Disjunction (OR) Operators\n",
    "# A disjunction occurs when the connector between two statements is “or.” In this case, \n",
    "# only one of the compound statements must be true in order for the entire compound statement to be true. \n",
    "# Conjunctions are represented by the letter ∨.\n",
    "\n",
    "# Negation (NOT) Operators\n",
    "# The mathematical operator negation returns the inverse of the given expression. \n",
    "# It is also referred to as NOT and is represented by the letter ∼."
   ]
  },
  {
   "cell_type": "code",
   "execution_count": 20,
   "id": "a0d0d88e-5186-4f74-b296-19a5cc37a51f",
   "metadata": {},
   "outputs": [
    {
     "name": "stdout",
     "output_type": "stream",
     "text": [
      "True\n"
     ]
    }
   ],
   "source": [
    "a = 15\n",
    "\n",
    "print(a < 100 and a > 10)"
   ]
  },
  {
   "cell_type": "code",
   "execution_count": 21,
   "id": "6cdeae5d-91e6-4fee-aeb0-2b73b9dc4f45",
   "metadata": {},
   "outputs": [
    {
     "name": "stdout",
     "output_type": "stream",
     "text": [
      "False\n"
     ]
    }
   ],
   "source": [
    "print(a > 100 and a > 10)"
   ]
  },
  {
   "cell_type": "code",
   "execution_count": 22,
   "id": "e3966c31-1893-44c0-9660-a7b841f4d571",
   "metadata": {},
   "outputs": [
    {
     "name": "stdout",
     "output_type": "stream",
     "text": [
      "True\n"
     ]
    }
   ],
   "source": [
    "print(a > 100 or a > 10)"
   ]
  },
  {
   "cell_type": "code",
   "execution_count": 24,
   "id": "8c2f4178-3a4b-417d-a20c-6fc28dc0894c",
   "metadata": {},
   "outputs": [
    {
     "name": "stdout",
     "output_type": "stream",
     "text": [
      "True\n"
     ]
    }
   ],
   "source": [
    "print(bool(a))"
   ]
  },
  {
   "cell_type": "code",
   "execution_count": 23,
   "id": "ff19c682-8013-4850-90b8-2da1f442af1e",
   "metadata": {},
   "outputs": [
    {
     "name": "stdout",
     "output_type": "stream",
     "text": [
      "False\n"
     ]
    }
   ],
   "source": [
    "print(not a)"
   ]
  },
  {
   "cell_type": "code",
   "execution_count": 25,
   "id": "fcc611c8-fe68-4b63-a50e-76556b38e9e2",
   "metadata": {},
   "outputs": [
    {
     "name": "stdout",
     "output_type": "stream",
     "text": [
      "False\n"
     ]
    }
   ],
   "source": [
    "x = 5\n",
    "\n",
    "print(not(x > 3 and x < 10))"
   ]
  },
  {
   "cell_type": "code",
   "execution_count": 26,
   "id": "64fd62db-bc9c-49c9-8150-357354354881",
   "metadata": {},
   "outputs": [
    {
     "name": "stdout",
     "output_type": "stream",
     "text": [
      "True\n"
     ]
    }
   ],
   "source": [
    "x = 5\n",
    "\n",
    "print(x > 3 and x < 10)"
   ]
  },
  {
   "cell_type": "code",
   "execution_count": 28,
   "id": "1a945409-a5da-4483-95aa-50326512fe74",
   "metadata": {},
   "outputs": [],
   "source": [
    "# https://www.geeksforgeeks.org/complete-reference-for-bitwise-operators-in-programming-coding/"
   ]
  },
  {
   "cell_type": "code",
   "execution_count": 30,
   "id": "596bc487-665d-46f8-9e49-fb72644ef974",
   "metadata": {},
   "outputs": [
    {
     "data": {
      "text/plain": [
       "1"
      ]
     },
     "execution_count": 30,
     "metadata": {},
     "output_type": "execute_result"
    }
   ],
   "source": [
    "a & b"
   ]
  },
  {
   "cell_type": "code",
   "execution_count": 31,
   "id": "f865f383-2f57-4d2d-83ff-af679e117026",
   "metadata": {},
   "outputs": [
    {
     "data": {
      "text/plain": [
       "7"
      ]
     },
     "execution_count": 31,
     "metadata": {},
     "output_type": "execute_result"
    }
   ],
   "source": [
    "a | b"
   ]
  },
  {
   "cell_type": "code",
   "execution_count": 32,
   "id": "cde76b8c-b185-46d6-ac22-159a9cfc352b",
   "metadata": {},
   "outputs": [
    {
     "data": {
      "text/plain": [
       "6"
      ]
     },
     "execution_count": 32,
     "metadata": {},
     "output_type": "execute_result"
    }
   ],
   "source": [
    "a ^ b"
   ]
  },
  {
   "cell_type": "code",
   "execution_count": 33,
   "id": "04a06bd9-ca09-4868-a11e-eadc54d450ea",
   "metadata": {},
   "outputs": [
    {
     "data": {
      "text/plain": [
       "-6"
      ]
     },
     "execution_count": 33,
     "metadata": {},
     "output_type": "execute_result"
    }
   ],
   "source": [
    "~a"
   ]
  },
  {
   "cell_type": "code",
   "execution_count": null,
   "id": "23ebb643-ccfb-4748-9b0e-2e72e6b74260",
   "metadata": {},
   "outputs": [],
   "source": []
  }
 ],
 "metadata": {
  "kernelspec": {
   "display_name": "Python 3 (ipykernel)",
   "language": "python",
   "name": "python3"
  },
  "language_info": {
   "codemirror_mode": {
    "name": "ipython",
    "version": 3
   },
   "file_extension": ".py",
   "mimetype": "text/x-python",
   "name": "python",
   "nbconvert_exporter": "python",
   "pygments_lexer": "ipython3",
   "version": "3.11.7"
  }
 },
 "nbformat": 4,
 "nbformat_minor": 5
}
