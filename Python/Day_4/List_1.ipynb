{
 "cells": [
  {
   "cell_type": "code",
   "execution_count": 1,
   "id": "3f5f32fd-6545-4a45-880f-4bafcd41403a",
   "metadata": {},
   "outputs": [],
   "source": [
    "my_List = [True, 1, 34.5, 2+5j, \"Amit\", [1,2,3], (True, False, 1), 1, 34.5, 2+5j ]"
   ]
  },
  {
   "cell_type": "code",
   "execution_count": 2,
   "id": "ac7edd74-275e-4083-b9aa-d8aaa48f4459",
   "metadata": {},
   "outputs": [
    {
     "data": {
      "text/plain": [
       "[True, 1, 34.5, (2+5j), 'Amit', [1, 2, 3], (True, False, 1), 1, 34.5, (2+5j)]"
      ]
     },
     "execution_count": 2,
     "metadata": {},
     "output_type": "execute_result"
    }
   ],
   "source": [
    "my_List"
   ]
  },
  {
   "cell_type": "code",
   "execution_count": 3,
   "id": "3b2d4534-cc4b-4e02-a03a-b0dae49c8af5",
   "metadata": {},
   "outputs": [
    {
     "data": {
      "text/plain": [
       "list"
      ]
     },
     "execution_count": 3,
     "metadata": {},
     "output_type": "execute_result"
    }
   ],
   "source": [
    "type(my_List)"
   ]
  },
  {
   "cell_type": "code",
   "execution_count": 4,
   "id": "21a6d89f-931d-419b-82bf-890e99656727",
   "metadata": {},
   "outputs": [
    {
     "data": {
      "text/plain": [
       "10"
      ]
     },
     "execution_count": 4,
     "metadata": {},
     "output_type": "execute_result"
    }
   ],
   "source": [
    "len(my_List)"
   ]
  },
  {
   "cell_type": "code",
   "execution_count": 5,
   "id": "c25e4155-fedb-4fdb-8445-0bec286ddd69",
   "metadata": {},
   "outputs": [
    {
     "data": {
      "text/plain": [
       "(2+5j)"
      ]
     },
     "execution_count": 5,
     "metadata": {},
     "output_type": "execute_result"
    }
   ],
   "source": [
    "my_List[3]"
   ]
  },
  {
   "cell_type": "code",
   "execution_count": 6,
   "id": "7c1ba909-0a5e-47eb-951d-670baf87c84c",
   "metadata": {},
   "outputs": [
    {
     "data": {
      "text/plain": [
       "(2+5j)"
      ]
     },
     "execution_count": 6,
     "metadata": {},
     "output_type": "execute_result"
    }
   ],
   "source": [
    "my_List[-1]"
   ]
  },
  {
   "cell_type": "code",
   "execution_count": 7,
   "id": "f572f91a-71e2-4745-85b8-ec6aa0487d62",
   "metadata": {},
   "outputs": [
    {
     "name": "stdout",
     "output_type": "stream",
     "text": [
      "['apple', 'banana', 'cherry']\n"
     ]
    }
   ],
   "source": [
    "thislist = list((\"apple\", \"banana\", \"cherry\")) # note the double round-brackets\n",
    "print(thislist)"
   ]
  },
  {
   "cell_type": "code",
   "execution_count": 8,
   "id": "1c7fac85-dcec-4e2e-bab8-19b6bcbef450",
   "metadata": {},
   "outputs": [
    {
     "name": "stdout",
     "output_type": "stream",
     "text": [
      "Yes, 'apple' is in the fruits list\n"
     ]
    }
   ],
   "source": [
    "thislist = [\"apple\", \"banana\", \"cherry\"]\n",
    "if \"apple\" in thislist:\n",
    "  print(\"Yes, 'apple' is in the fruits list\")"
   ]
  },
  {
   "cell_type": "code",
   "execution_count": 9,
   "id": "f6909496-0ee2-4b97-a6b4-569ac5573bda",
   "metadata": {},
   "outputs": [
    {
     "data": {
      "text/plain": [
       "[True, 1, 34.5, (2+5j), 'Amit', [1, 2, 3], (True, False, 1), 1, 34.5, (2+5j)]"
      ]
     },
     "execution_count": 9,
     "metadata": {},
     "output_type": "execute_result"
    }
   ],
   "source": [
    "my_List"
   ]
  },
  {
   "cell_type": "code",
   "execution_count": 10,
   "id": "effa0cad-bd08-4267-91e1-2859ecc265a6",
   "metadata": {},
   "outputs": [
    {
     "name": "stdout",
     "output_type": "stream",
     "text": [
      "Yes it is there.\n"
     ]
    }
   ],
   "source": [
    "if True in my_List:\n",
    "    print(\"Yes it is there.\")"
   ]
  },
  {
   "cell_type": "code",
   "execution_count": 11,
   "id": "bae62186-ab2d-450c-a80c-ab443df4c560",
   "metadata": {},
   "outputs": [],
   "source": [
    "Name = \"Abhishek Upadhaya\""
   ]
  },
  {
   "cell_type": "code",
   "execution_count": 12,
   "id": "05211668-b759-486c-b0a7-3a2d4304242a",
   "metadata": {},
   "outputs": [
    {
     "data": {
      "text/plain": [
       "17"
      ]
     },
     "execution_count": 12,
     "metadata": {},
     "output_type": "execute_result"
    }
   ],
   "source": [
    "len(Name) "
   ]
  },
  {
   "cell_type": "code",
   "execution_count": 13,
   "id": "4b2dee74-d67a-42b1-9866-3fea2c758b39",
   "metadata": {},
   "outputs": [
    {
     "name": "stdout",
     "output_type": "stream",
     "text": [
      "Uahy\n"
     ]
    }
   ],
   "source": [
    "print(Name[9::2])"
   ]
  },
  {
   "cell_type": "code",
   "execution_count": 14,
   "id": "4eec3fde-1a1c-43c5-b3c9-c2cdf87595a9",
   "metadata": {},
   "outputs": [
    {
     "name": "stdout",
     "output_type": "stream",
     "text": [
      "['apple', 'blackcurrant', 'watermelon', 'orange', 'kiwi', 'mango']\n"
     ]
    }
   ],
   "source": [
    "thislist = [\"apple\", \"banana\", \"cherry\", \"orange\", \"kiwi\", \"mango\"]\n",
    "thislist[1:3] = [\"blackcurrant\", \"watermelon\"]\n",
    "print(thislist)"
   ]
  },
  {
   "cell_type": "code",
   "execution_count": 15,
   "id": "6bcb556c-05fe-4ae9-9bd0-4e2123bc0ef6",
   "metadata": {},
   "outputs": [
    {
     "name": "stdout",
     "output_type": "stream",
     "text": [
      "['apple', 'banana', 'watermelon', 'cherry']\n"
     ]
    }
   ],
   "source": [
    "thislist = [\"apple\", \"banana\", \"cherry\"]\n",
    "\n",
    "thislist.insert(2, \"watermelon\")\n",
    "\n",
    "print(thislist) "
   ]
  },
  {
   "cell_type": "code",
   "execution_count": 17,
   "id": "7026ba6e-f874-4c0e-85b8-a9619379ba57",
   "metadata": {},
   "outputs": [
    {
     "name": "stdout",
     "output_type": "stream",
     "text": [
      "[True, 1, 34.5, (2+5j), 'Amit', [1, 2, 3], (True, False, 1), 1, 34.5, (2+5j), 'Pineapple']\n"
     ]
    }
   ],
   "source": [
    "# List ke last me item add kr dega.\n",
    "my_List.append(\"Pineapple\")\n",
    "print(my_List)"
   ]
  },
  {
   "cell_type": "code",
   "execution_count": 28,
   "id": "bdfd06d9-5d7c-41bc-a3dd-c28c92ffe5db",
   "metadata": {},
   "outputs": [
    {
     "name": "stdout",
     "output_type": "stream",
     "text": [
      "[True, 'Abhishek', 'Abhishek', 1, 34.5, (2+5j), 'Amit', [1, 2, 3], (True, False, 1), 1, 34.5, (2+5j), 'Pineapple', 'Pineapple', 'Pineapple']\n"
     ]
    }
   ],
   "source": [
    "# List me specified position pe items add krega\n",
    "my_List.insert(1, \"Abhishek\")\n",
    "print(my_List)"
   ]
  },
  {
   "cell_type": "code",
   "execution_count": 29,
   "id": "12bfe180-ad55-404a-bff8-61e620016b4b",
   "metadata": {},
   "outputs": [
    {
     "name": "stdout",
     "output_type": "stream",
     "text": [
      "['apple', 'banana', 'cherry', 'mango', 'pineapple', 'papaya']\n"
     ]
    }
   ],
   "source": [
    "# Extend the list with new values from other list\n",
    "thislist = [\"apple\", \"banana\", \"cherry\"]\n",
    "tropical = [\"mango\", \"pineapple\", \"papaya\"]\n",
    "thislist.extend(tropical)\n",
    "print(thislist)"
   ]
  }
 ],
 "metadata": {
  "kernelspec": {
   "display_name": "Python 3 (ipykernel)",
   "language": "python",
   "name": "python3"
  },
  "language_info": {
   "codemirror_mode": {
    "name": "ipython",
    "version": 3
   },
   "file_extension": ".py",
   "mimetype": "text/x-python",
   "name": "python",
   "nbconvert_exporter": "python",
   "pygments_lexer": "ipython3",
   "version": "3.11.7"
  }
 },
 "nbformat": 4,
 "nbformat_minor": 5
}
