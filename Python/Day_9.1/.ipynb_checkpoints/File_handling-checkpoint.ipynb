{
 "cells": [
  {
   "cell_type": "code",
   "execution_count": 3,
   "id": "5f1a7297-2f40-4956-a80b-ed5286e25e63",
   "metadata": {},
   "outputs": [],
   "source": [
    "file_1 = open(\"my.txt\")"
   ]
  },
  {
   "cell_type": "code",
   "execution_count": 2,
   "id": "0ac26c91-f491-48d4-afa3-d19676c2bcc8",
   "metadata": {},
   "outputs": [],
   "source": [
    "file_1 = open(\"my.txt\",\"a\")"
   ]
  },
  {
   "cell_type": "code",
   "execution_count": 5,
   "id": "f357b886-93f1-49e9-8156-a24b88dfe092",
   "metadata": {},
   "outputs": [],
   "source": [
    "f = open(\"my.txt\", \"rt\")"
   ]
  },
  {
   "cell_type": "code",
   "execution_count": 6,
   "id": "bea5c479-6a71-4b77-a944-1e112542c9a8",
   "metadata": {},
   "outputs": [
    {
     "name": "stdout",
     "output_type": "stream",
     "text": [
      "Hello from a file.\n"
     ]
    }
   ],
   "source": [
    "print(f.read())"
   ]
  },
  {
   "cell_type": "code",
   "execution_count": 7,
   "id": "1fa4ff6f-71e0-4990-8799-f8772a252e55",
   "metadata": {},
   "outputs": [
    {
     "name": "stdout",
     "output_type": "stream",
     "text": [
      "Hello from a file.\n"
     ]
    }
   ],
   "source": [
    "print(file_1.read())"
   ]
  },
  {
   "cell_type": "code",
   "execution_count": 19,
   "id": "ed339434-e322-43e5-bc02-3196828f60f7",
   "metadata": {},
   "outputs": [],
   "source": [
    "f_2 = open(\"C:/Users/SkillCircle/Downloads/chota_bheem.txt\",\"r\")"
   ]
  },
  {
   "cell_type": "code",
   "execution_count": 10,
   "id": "19eba3c2-b051-4c68-823e-635c8661f2a0",
   "metadata": {},
   "outputs": [
    {
     "data": {
      "text/plain": [
       "'chin tapak dum dum'"
      ]
     },
     "execution_count": 10,
     "metadata": {},
     "output_type": "execute_result"
    }
   ],
   "source": [
    "f_2.read()"
   ]
  },
  {
   "cell_type": "code",
   "execution_count": 20,
   "id": "4591d279-3749-478f-8b34-b456bda886bc",
   "metadata": {},
   "outputs": [
    {
     "name": "stdout",
     "output_type": "stream",
     "text": [
      "chin tapak\n"
     ]
    }
   ],
   "source": [
    "print(f_2.read(10))"
   ]
  },
  {
   "cell_type": "code",
   "execution_count": 21,
   "id": "1d7dc3dc-d106-46b0-b0aa-62927dbc43a6",
   "metadata": {},
   "outputs": [],
   "source": [
    "f = open(\"demofile2.txt\", \"a\")\n",
    "f.write(\"Now the file has more content!\")\n",
    "f.close()"
   ]
  },
  {
   "cell_type": "code",
   "execution_count": 22,
   "id": "ff8c8aa9-7e0a-49df-9c50-5edfccbb6c72",
   "metadata": {},
   "outputs": [
    {
     "name": "stdout",
     "output_type": "stream",
     "text": [
      "Now the file has more content!\n"
     ]
    }
   ],
   "source": [
    "#open and read the file after the appending:\n",
    "f = open(\"demofile2.txt\", \"r\")\n",
    "print(f.read())"
   ]
  },
  {
   "cell_type": "code",
   "execution_count": 23,
   "id": "9a89f495-38af-492c-8a06-937163b5c26a",
   "metadata": {},
   "outputs": [],
   "source": [
    "f = open(\"demofile3.txt\", \"w\")\n",
    "f.write(\"Woops! I have deleted the content!\")\n",
    "f.close()"
   ]
  },
  {
   "cell_type": "code",
   "execution_count": 24,
   "id": "a6ae1190-e124-4b7d-ba90-03920b1fa8c0",
   "metadata": {},
   "outputs": [
    {
     "name": "stdout",
     "output_type": "stream",
     "text": [
      "Woops! I have deleted the content!\n"
     ]
    }
   ],
   "source": [
    "f = open(\"demofile3.txt\", \"r\")\n",
    "print(f.read())"
   ]
  },
  {
   "cell_type": "code",
   "execution_count": 30,
   "id": "cd6f1903-37cc-4dcb-96b2-e4bc705f7fc6",
   "metadata": {},
   "outputs": [],
   "source": [
    "f = open(\"demofile3.txt\", \"x\")"
   ]
  },
  {
   "cell_type": "code",
   "execution_count": 28,
   "id": "f62f8a43-56ff-490a-92e9-2252783f93f4",
   "metadata": {},
   "outputs": [],
   "source": [
    "f.close()"
   ]
  },
  {
   "cell_type": "code",
   "execution_count": 26,
   "id": "55df2cbc-33ba-46ab-a59d-07b10a6a1824",
   "metadata": {},
   "outputs": [],
   "source": [
    "import os"
   ]
  },
  {
   "cell_type": "code",
   "execution_count": 29,
   "id": "7da0b45a-2611-4f7c-8961-004ef60b80d5",
   "metadata": {},
   "outputs": [],
   "source": [
    "os.remove(\"demofile3.txt\")"
   ]
  },
  {
   "cell_type": "code",
   "execution_count": null,
   "id": "34a191e0-a4dc-48dd-bda3-085d855339a2",
   "metadata": {},
   "outputs": [],
   "source": []
  }
 ],
 "metadata": {
  "kernelspec": {
   "display_name": "Python 3 (ipykernel)",
   "language": "python",
   "name": "python3"
  },
  "language_info": {
   "codemirror_mode": {
    "name": "ipython",
    "version": 3
   },
   "file_extension": ".py",
   "mimetype": "text/x-python",
   "name": "python",
   "nbconvert_exporter": "python",
   "pygments_lexer": "ipython3",
   "version": "3.11.7"
  }
 },
 "nbformat": 4,
 "nbformat_minor": 5
}
