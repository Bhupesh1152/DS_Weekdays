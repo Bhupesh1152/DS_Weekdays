{
 "cells": [
  {
   "cell_type": "code",
   "execution_count": 3,
   "id": "d1c08d9a-f1cf-4b56-9dd5-ddb66f37a71c",
   "metadata": {},
   "outputs": [],
   "source": [
    "# Global variable -- It can be used anywhere in the program.\n",
    "x = 10"
   ]
  },
  {
   "cell_type": "code",
   "execution_count": 4,
   "id": "9b116b2b-bae9-4985-b87e-654bdb11acdd",
   "metadata": {},
   "outputs": [],
   "source": [
    "# Local variable --> It is defined inside a function, classes, objects. It cannot be used anywhere.\n",
    "def myfunc():\n",
    "  y = 300\n",
    "  print(y)"
   ]
  },
  {
   "cell_type": "code",
   "execution_count": 5,
   "id": "aeb4e7a1-bbb4-4a61-9c35-ffcc2280c12c",
   "metadata": {},
   "outputs": [
    {
     "name": "stdout",
     "output_type": "stream",
     "text": [
      "300\n"
     ]
    }
   ],
   "source": [
    "myfunc()"
   ]
  },
  {
   "cell_type": "code",
   "execution_count": 13,
   "id": "936e132c-2340-497e-bf35-d4104c3bb791",
   "metadata": {},
   "outputs": [
    {
     "ename": "NameError",
     "evalue": "name 'y' is not defined",
     "output_type": "error",
     "traceback": [
      "\u001b[1;31m---------------------------------------------------------------------------\u001b[0m",
      "\u001b[1;31mNameError\u001b[0m                                 Traceback (most recent call last)",
      "Cell \u001b[1;32mIn[13], line 1\u001b[0m\n\u001b[1;32m----> 1\u001b[0m \u001b[38;5;28mprint\u001b[39m(y)\n",
      "\u001b[1;31mNameError\u001b[0m: name 'y' is not defined"
     ]
    }
   ],
   "source": [
    "print(y)"
   ]
  },
  {
   "cell_type": "code",
   "execution_count": 7,
   "id": "b8d1c10b-bcea-4d9b-9515-def278e7dcd3",
   "metadata": {},
   "outputs": [],
   "source": [
    "def myfunc():\n",
    "  global g \n",
    "  g = 300\n",
    "  print(g)"
   ]
  },
  {
   "cell_type": "code",
   "execution_count": 12,
   "id": "0e64124a-b2ec-4b97-833e-fed2dbf4ca2a",
   "metadata": {},
   "outputs": [
    {
     "name": "stdout",
     "output_type": "stream",
     "text": [
      "300\n"
     ]
    }
   ],
   "source": [
    "print(g)"
   ]
  },
  {
   "cell_type": "code",
   "execution_count": null,
   "id": "4740fe5f-1e5e-4846-8ca0-b325e759137a",
   "metadata": {},
   "outputs": [],
   "source": []
  },
  {
   "cell_type": "code",
   "execution_count": null,
   "id": "528cd962-ae80-44cf-b202-ba6a1f1d19ec",
   "metadata": {},
   "outputs": [],
   "source": []
  },
  {
   "cell_type": "code",
   "execution_count": null,
   "id": "388c37bf-c6ef-4eaa-9fd1-51ee8ef083a0",
   "metadata": {},
   "outputs": [],
   "source": []
  },
  {
   "cell_type": "code",
   "execution_count": null,
   "id": "c2a91d31-08ef-4899-8da0-5e842bd2711f",
   "metadata": {},
   "outputs": [],
   "source": []
  },
  {
   "cell_type": "code",
   "execution_count": 2,
   "id": "6c9b628a-9af9-4935-9d76-744713b85a75",
   "metadata": {},
   "outputs": [
    {
     "data": {
      "text/plain": [
       "10"
      ]
     },
     "execution_count": 2,
     "metadata": {},
     "output_type": "execute_result"
    }
   ],
   "source": [
    "x"
   ]
  },
  {
   "cell_type": "code",
   "execution_count": null,
   "id": "9a5b16b4-9961-4786-a444-90f0d90297c2",
   "metadata": {},
   "outputs": [],
   "source": []
  }
 ],
 "metadata": {
  "kernelspec": {
   "display_name": "Python 3 (ipykernel)",
   "language": "python",
   "name": "python3"
  },
  "language_info": {
   "codemirror_mode": {
    "name": "ipython",
    "version": 3
   },
   "file_extension": ".py",
   "mimetype": "text/x-python",
   "name": "python",
   "nbconvert_exporter": "python",
   "pygments_lexer": "ipython3",
   "version": "3.11.7"
  }
 },
 "nbformat": 4,
 "nbformat_minor": 5
}
