{
 "cells": [
  {
   "cell_type": "code",
   "execution_count": 1,
   "id": "2f5263c9-12fd-463c-8b27-d6381f5cfe63",
   "metadata": {},
   "outputs": [],
   "source": [
    "My_tuple = (True, 1, 34.5, 2+5j, \"Amit\", [1,2,3], (True, False, 1), 1, 34.5, 2+5j)"
   ]
  },
  {
   "cell_type": "code",
   "execution_count": 2,
   "id": "ec0da807-18ba-40ec-9cd0-7a1c0859e288",
   "metadata": {},
   "outputs": [
    {
     "name": "stdout",
     "output_type": "stream",
     "text": [
      "<class 'tuple'>\n"
     ]
    }
   ],
   "source": [
    "print(type(My_tuple))"
   ]
  },
  {
   "cell_type": "code",
   "execution_count": 3,
   "id": "af10975d-6765-455a-ad56-405e48900b70",
   "metadata": {},
   "outputs": [
    {
     "data": {
      "text/plain": [
       "(True, 1, 34.5, (2+5j), 'Amit', [1, 2, 3], (True, False, 1), 1, 34.5, (2+5j))"
      ]
     },
     "execution_count": 3,
     "metadata": {},
     "output_type": "execute_result"
    }
   ],
   "source": [
    "My_tuple"
   ]
  },
  {
   "cell_type": "code",
   "execution_count": 4,
   "id": "f84041f0-028d-4662-8ac9-14b81f1b5a09",
   "metadata": {},
   "outputs": [
    {
     "data": {
      "text/plain": [
       "10"
      ]
     },
     "execution_count": 4,
     "metadata": {},
     "output_type": "execute_result"
    }
   ],
   "source": [
    "len(My_tuple)"
   ]
  },
  {
   "cell_type": "code",
   "execution_count": 6,
   "id": "4804ed50-a426-4ed7-907d-9d9e798e80c9",
   "metadata": {},
   "outputs": [
    {
     "data": {
      "text/plain": [
       "tuple"
      ]
     },
     "execution_count": 6,
     "metadata": {},
     "output_type": "execute_result"
    }
   ],
   "source": [
    "a = (9,)\n",
    "type(a)"
   ]
  },
  {
   "cell_type": "code",
   "execution_count": null,
   "id": "90089ca4-1e81-4686-89f5-128935b5ef60",
   "metadata": {},
   "outputs": [],
   "source": []
  }
 ],
 "metadata": {
  "kernelspec": {
   "display_name": "Python 3 (ipykernel)",
   "language": "python",
   "name": "python3"
  },
  "language_info": {
   "codemirror_mode": {
    "name": "ipython",
    "version": 3
   },
   "file_extension": ".py",
   "mimetype": "text/x-python",
   "name": "python",
   "nbconvert_exporter": "python",
   "pygments_lexer": "ipython3",
   "version": "3.11.7"
  }
 },
 "nbformat": 4,
 "nbformat_minor": 5
}
