{
 "cells": [
  {
   "cell_type": "code",
   "execution_count": 1,
   "id": "741a7628-e690-42a6-94ba-08f10bff707a",
   "metadata": {},
   "outputs": [
    {
     "name": "stdin",
     "output_type": "stream",
     "text": [
      "What is your name?  aMiT\n",
      "What is your country name?  InDiA\n"
     ]
    },
    {
     "name": "stdout",
     "output_type": "stream",
     "text": [
      "Hi, \"aMiT\" You are from \"InDiA\"\n"
     ]
    }
   ],
   "source": [
    "# Get user's name\n",
    "name = input(\"What is your name? \")\n",
    "\n",
    "# Get user's country name\n",
    "country = input(\"What is your country name? \")\n",
    "\n",
    "# Print the greeting message with name and country inside double quotes\n",
    "print(f'Hi, \"{name}\" You are from \"{country}\"')"
   ]
  },
  {
   "cell_type": "code",
   "execution_count": 2,
   "id": "d533b883-e79e-48ed-99ed-25fd07bc0692",
   "metadata": {},
   "outputs": [
    {
     "name": "stdout",
     "output_type": "stream",
     "text": [
      "She said:Helloand then left.\n"
     ]
    }
   ],
   "source": [
    "print(\"She said:\" \"Hello\" \"and then left.\")"
   ]
  },
  {
   "cell_type": "code",
   "execution_count": 3,
   "id": "4bf96787-7e80-48cd-9aa4-1478b9c5082f",
   "metadata": {},
   "outputs": [
    {
     "name": "stdout",
     "output_type": "stream",
     "text": [
      "She said: Hello and then left.\n"
     ]
    }
   ],
   "source": [
    "print(\"She said:\", \"Hello\", \"and then left.\")"
   ]
  }
 ],
 "metadata": {
  "kernelspec": {
   "display_name": "Python 3 (ipykernel)",
   "language": "python",
   "name": "python3"
  },
  "language_info": {
   "codemirror_mode": {
    "name": "ipython",
    "version": 3
   },
   "file_extension": ".py",
   "mimetype": "text/x-python",
   "name": "python",
   "nbconvert_exporter": "python",
   "pygments_lexer": "ipython3",
   "version": "3.11.7"
  }
 },
 "nbformat": 4,
 "nbformat_minor": 5
}
