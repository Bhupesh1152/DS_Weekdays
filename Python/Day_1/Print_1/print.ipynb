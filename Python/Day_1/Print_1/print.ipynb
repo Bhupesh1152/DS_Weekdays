{
 "cells": [
  {
   "cell_type": "code",
   "execution_count": 5,
   "id": "23e99b0f-7872-4919-a50d-441948972541",
   "metadata": {},
   "outputs": [
    {
     "name": "stdout",
     "output_type": "stream",
     "text": [
      "She said: \"Hello\" and then left.\n"
     ]
    }
   ],
   "source": [
    "# In the first print statement we want to have some double quotes around a word hello. \n",
    "#But notice the color coding here because the computer reads from left to right when it sees the first \n",
    "#double quote it thinks this is the beginning of text and then it sees the second double quotes \n",
    "# at the beginning of word hello it thinks that is the end of the text.\n",
    "# So then after the end of the text well it's code.\n",
    "\n",
    "#This will raise a error.\n",
    "# print(\"She said: \"Hello\" and then left.\")\n",
    "\n",
    "# So how to solve this --> well we have two ways to do so.\n",
    "\n",
    "# print('She said: \"Hello\" and then left.')\n",
    "\n",
    "print(\"She said: \\\"Hello\\\" and then left.\")"
   ]
  },
  {
   "cell_type": "code",
   "execution_count": 15,
   "id": "34a35bab-5954-49fc-b9b7-f4f0d4f5b55a",
   "metadata": {},
   "outputs": [
    {
     "name": "stdin",
     "output_type": "stream",
     "text": [
      "What is your name?  Amit\n",
      "What is your country name?  India\n"
     ]
    },
    {
     "name": "stdout",
     "output_type": "stream",
     "text": [
      "Hi, \"Amit\" You are from \"India\" \n"
     ]
    }
   ],
   "source": [
    "name = input(\"What is your name? \")\n",
    "country = input(\"What is your country name? \")\n",
    "\n",
    "print(f'Hi, \"{name}\" You are from \"{country}\" ')"
   ]
  },
  {
   "cell_type": "code",
   "execution_count": 10,
   "id": "078ce932-80c5-4020-84cb-f5b1dd59e955",
   "metadata": {},
   "outputs": [
    {
     "name": "stdout",
     "output_type": "stream",
     "text": [
      "\"Abhishek\" is a bad guy\n"
     ]
    }
   ],
   "source": [
    "print('\"Abhishek\" is a bad guy')"
   ]
  },
  {
   "cell_type": "code",
   "execution_count": 7,
   "id": "ba34550e-3a02-4903-b114-cb0eb5d5154d",
   "metadata": {},
   "outputs": [
    {
     "name": "stdout",
     "output_type": "stream",
     "text": [
      "I am a bad guy\n"
     ]
    }
   ],
   "source": [
    "print(\"I am a bad guy\")"
   ]
  },
  {
   "cell_type": "code",
   "execution_count": 11,
   "id": "0b1c40ec-7f78-432b-abfa-74fa2b0be17c",
   "metadata": {},
   "outputs": [
    {
     "name": "stdout",
     "output_type": "stream",
     "text": [
      "She said:Helloand then left.\n"
     ]
    }
   ],
   "source": [
    "print(\"She said:\" \"Hello\" \"and then left.\")"
   ]
  }
 ],
 "metadata": {
  "kernelspec": {
   "display_name": "Python 3 (ipykernel)",
   "language": "python",
   "name": "python3"
  },
  "language_info": {
   "codemirror_mode": {
    "name": "ipython",
    "version": 3
   },
   "file_extension": ".py",
   "mimetype": "text/x-python",
   "name": "python",
   "nbconvert_exporter": "python",
   "pygments_lexer": "ipython3",
   "version": "3.11.7"
  }
 },
 "nbformat": 4,
 "nbformat_minor": 5
}
