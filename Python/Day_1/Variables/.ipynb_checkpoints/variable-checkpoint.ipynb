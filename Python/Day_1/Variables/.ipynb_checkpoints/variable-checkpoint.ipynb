{
 "cells": [
  {
   "cell_type": "code",
   "execution_count": 1,
   "id": "4013e083-320d-4a4a-8e65-ff78290c5d34",
   "metadata": {},
   "outputs": [
    {
     "name": "stdout",
     "output_type": "stream",
     "text": [
      "Leonidus\n",
      "Abhishek\n"
     ]
    },
    {
     "name": "stdin",
     "output_type": "stream",
     "text": [
      "What is your name? Amit\n"
     ]
    },
    {
     "name": "stdout",
     "output_type": "stream",
     "text": [
      "4\n",
      "2149221906992\n"
     ]
    }
   ],
   "source": [
    "name = \"Leonidus\"\n",
    "print(name)\n",
    "\n",
    "name = \"Abhishek\"\n",
    "print(name)\n",
    "\n",
    "\n",
    "name = input(\"What is your name?\")\n",
    "length = len(name)\n",
    "print(length)\n",
    "print(id(name))"
   ]
  },
  {
   "cell_type": "code",
   "execution_count": 2,
   "id": "56dbd4e0-7654-47cc-b031-dbd4d6dacad5",
   "metadata": {},
   "outputs": [
    {
     "name": "stdout",
     "output_type": "stream",
     "text": [
      "2149221097776\n"
     ]
    }
   ],
   "source": [
    "Name = \"Amit\"\n",
    "print(id(Name))"
   ]
  },
  {
   "cell_type": "code",
   "execution_count": 3,
   "id": "ce69bec0-f4d4-4b87-9957-780459e62b98",
   "metadata": {},
   "outputs": [],
   "source": [
    "x = 5"
   ]
  },
  {
   "cell_type": "code",
   "execution_count": 4,
   "id": "d74b1c4f-01ab-4d2b-afc4-59c36b0a5c85",
   "metadata": {},
   "outputs": [
    {
     "name": "stdout",
     "output_type": "stream",
     "text": [
      "5\n"
     ]
    }
   ],
   "source": [
    "# print()\n",
    "print(x)"
   ]
  },
  {
   "cell_type": "code",
   "execution_count": 5,
   "id": "ff4014ae-49d3-4a58-8282-4b2732eb1745",
   "metadata": {},
   "outputs": [
    {
     "name": "stdout",
     "output_type": "stream",
     "text": [
      "140735499387816\n"
     ]
    }
   ],
   "source": [
    "# id()\n",
    "print(id(x))"
   ]
  },
  {
   "cell_type": "code",
   "execution_count": 6,
   "id": "61e3e7b1-062c-4321-bafe-7e71fbba1410",
   "metadata": {},
   "outputs": [],
   "source": [
    "C = \"I am a Mango man\""
   ]
  },
  {
   "cell_type": "code",
   "execution_count": 7,
   "id": "96c674f3-b0e4-47f9-85cc-56e82e838082",
   "metadata": {},
   "outputs": [
    {
     "name": "stdout",
     "output_type": "stream",
     "text": [
      "I am a Mango man\n"
     ]
    }
   ],
   "source": [
    "print(C)"
   ]
  },
  {
   "cell_type": "code",
   "execution_count": 8,
   "id": "fe6f58cb-4df8-49b1-b555-6ffc5c295001",
   "metadata": {},
   "outputs": [
    {
     "name": "stdout",
     "output_type": "stream",
     "text": [
      "1447669425584\n"
     ]
    }
   ],
   "source": [
    "print(id(C))"
   ]
  },
  {
   "cell_type": "code",
   "execution_count": 9,
   "id": "952a5cf5-6681-48e2-89fd-a51a0a8c765a",
   "metadata": {},
   "outputs": [
    {
     "data": {
      "text/plain": [
       "'Amit'"
      ]
     },
     "execution_count": 9,
     "metadata": {},
     "output_type": "execute_result"
    }
   ],
   "source": [
    "Name"
   ]
  },
  {
   "cell_type": "code",
   "execution_count": 10,
   "id": "0350638a-1d0a-433e-b393-ded3b50d52d6",
   "metadata": {},
   "outputs": [
    {
     "data": {
      "text/plain": [
       "1447669508144"
      ]
     },
     "execution_count": 10,
     "metadata": {},
     "output_type": "execute_result"
    }
   ],
   "source": [
    "id(Name)"
   ]
  },
  {
   "cell_type": "code",
   "execution_count": 11,
   "id": "2908e105-4c97-44c1-9f44-e660843e124c",
   "metadata": {},
   "outputs": [
    {
     "data": {
      "text/plain": [
       "'Amit'"
      ]
     },
     "execution_count": 11,
     "metadata": {},
     "output_type": "execute_result"
    }
   ],
   "source": [
    "# This is not recommended for you as this is not the best practice.\n",
    "Name"
   ]
  },
  {
   "cell_type": "code",
   "execution_count": 12,
   "id": "8f2db4e0-1d10-416d-9099-874793b2c442",
   "metadata": {},
   "outputs": [
    {
     "data": {
      "text/plain": [
       "4"
      ]
     },
     "execution_count": 12,
     "metadata": {},
     "output_type": "execute_result"
    }
   ],
   "source": [
    "len(Name)"
   ]
  },
  {
   "cell_type": "code",
   "execution_count": 13,
   "id": "f045640c-80bd-4061-8e9d-9e39c4e518ca",
   "metadata": {},
   "outputs": [],
   "source": [
    "a = 1234455698094"
   ]
  },
  {
   "cell_type": "code",
   "execution_count": 14,
   "id": "cfeb9fb0-bf10-4a36-a664-f428d3aa7cf1",
   "metadata": {},
   "outputs": [
    {
     "name": "stdout",
     "output_type": "stream",
     "text": [
      "1234455698094\n"
     ]
    }
   ],
   "source": [
    "print(a)"
   ]
  },
  {
   "cell_type": "code",
   "execution_count": 15,
   "id": "d61a7524-f1cf-4936-8b67-61731eda8d43",
   "metadata": {},
   "outputs": [
    {
     "ename": "TypeError",
     "evalue": "object of type 'int' has no len()",
     "output_type": "error",
     "traceback": [
      "\u001b[1;31m---------------------------------------------------------------------------\u001b[0m",
      "\u001b[1;31mTypeError\u001b[0m                                 Traceback (most recent call last)",
      "Cell \u001b[1;32mIn[15], line 1\u001b[0m\n\u001b[1;32m----> 1\u001b[0m \u001b[38;5;28mprint\u001b[39m(\u001b[38;5;28mlen\u001b[39m(a))\n",
      "\u001b[1;31mTypeError\u001b[0m: object of type 'int' has no len()"
     ]
    }
   ],
   "source": [
    "print(len(a))"
   ]
  },
  {
   "cell_type": "code",
   "execution_count": 16,
   "id": "bcfcfec8-0bb7-4a39-827e-4340ab6b52b4",
   "metadata": {},
   "outputs": [],
   "source": [
    "First_Name = 'Abhishek'"
   ]
  },
  {
   "cell_type": "code",
   "execution_count": 17,
   "id": "137c0275-0bb0-4815-835b-c4405ce25fd2",
   "metadata": {},
   "outputs": [],
   "source": [
    "a,b,c,d = 1, 2, 3, 4"
   ]
  },
  {
   "cell_type": "code",
   "execution_count": 18,
   "id": "c91c8531-24d9-4134-a5b6-91030c9686fd",
   "metadata": {},
   "outputs": [
    {
     "name": "stdout",
     "output_type": "stream",
     "text": [
      "1\n"
     ]
    }
   ],
   "source": [
    "print(a)"
   ]
  },
  {
   "cell_type": "code",
   "execution_count": 32,
   "id": "4e1c7638-142c-4299-9ee7-033592f5cf68",
   "metadata": {},
   "outputs": [
    {
     "data": {
      "text/plain": [
       "2"
      ]
     },
     "execution_count": 32,
     "metadata": {},
     "output_type": "execute_result"
    }
   ],
   "source": [
    "b"
   ]
  },
  {
   "cell_type": "code",
   "execution_count": 33,
   "id": "fc2dff80-83d0-48b3-9fb9-9c2f04dd4674",
   "metadata": {},
   "outputs": [
    {
     "data": {
      "text/plain": [
       "3"
      ]
     },
     "execution_count": 33,
     "metadata": {},
     "output_type": "execute_result"
    }
   ],
   "source": [
    "c"
   ]
  },
  {
   "cell_type": "code",
   "execution_count": 34,
   "id": "e6eb6c8f-3a12-424d-a199-62ab957647f4",
   "metadata": {},
   "outputs": [
    {
     "data": {
      "text/plain": [
       "4"
      ]
     },
     "execution_count": 34,
     "metadata": {},
     "output_type": "execute_result"
    }
   ],
   "source": [
    "d"
   ]
  },
  {
   "cell_type": "code",
   "execution_count": 19,
   "id": "a20b3678-cfa0-4630-89bb-2288c93d43a9",
   "metadata": {},
   "outputs": [],
   "source": [
    "e = 5.5"
   ]
  },
  {
   "cell_type": "code",
   "execution_count": 20,
   "id": "191d0b47-6816-4c94-b1bc-47a1cb60b54c",
   "metadata": {},
   "outputs": [
    {
     "data": {
      "text/plain": [
       "str"
      ]
     },
     "execution_count": 20,
     "metadata": {},
     "output_type": "execute_result"
    }
   ],
   "source": [
    "type(Name)"
   ]
  },
  {
   "cell_type": "code",
   "execution_count": 21,
   "id": "d7a47461-0ac9-4b1b-b97b-58dfe8346eff",
   "metadata": {},
   "outputs": [
    {
     "name": "stdout",
     "output_type": "stream",
     "text": [
      "<class 'str'>\n"
     ]
    }
   ],
   "source": [
    "print(type(Name))"
   ]
  }
 ],
 "metadata": {
  "kernelspec": {
   "display_name": "Python 3 (ipykernel)",
   "language": "python",
   "name": "python3"
  },
  "language_info": {
   "codemirror_mode": {
    "name": "ipython",
    "version": 3
   },
   "file_extension": ".py",
   "mimetype": "text/x-python",
   "name": "python",
   "nbconvert_exporter": "python",
   "pygments_lexer": "ipython3",
   "version": "3.11.7"
  }
 },
 "nbformat": 4,
 "nbformat_minor": 5
}
