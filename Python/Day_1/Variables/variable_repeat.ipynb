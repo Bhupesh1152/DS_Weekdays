{
 "cells": [
  {
   "cell_type": "code",
   "execution_count": 1,
   "id": "cbe0baf6-0acd-4cfd-bbf1-8e53538ba47a",
   "metadata": {},
   "outputs": [],
   "source": [
    "# Variables are containers for storing data values."
   ]
  },
  {
   "cell_type": "code",
   "execution_count": 2,
   "id": "7845e4da-7368-4b93-bca6-54c1616d4e15",
   "metadata": {},
   "outputs": [],
   "source": [
    "x = 5"
   ]
  },
  {
   "cell_type": "code",
   "execution_count": 4,
   "id": "e29bfd2b-d297-4ba5-ad72-297f6f8eff91",
   "metadata": {},
   "outputs": [
    {
     "data": {
      "text/plain": [
       "140732706440104"
      ]
     },
     "execution_count": 4,
     "metadata": {},
     "output_type": "execute_result"
    }
   ],
   "source": [
    "# This is not recommended.\n",
    "id(x)"
   ]
  },
  {
   "cell_type": "code",
   "execution_count": 6,
   "id": "674beb33-bf8a-4fa4-a9fb-cb834cbbc319",
   "metadata": {},
   "outputs": [
    {
     "name": "stdout",
     "output_type": "stream",
     "text": [
      "140732706440104\n"
     ]
    }
   ],
   "source": [
    "# this is best practice\n",
    "print(id(x))"
   ]
  },
  {
   "cell_type": "code",
   "execution_count": 7,
   "id": "3c4ed14c-7e75-4567-9ecd-609400b4c6a2",
   "metadata": {},
   "outputs": [
    {
     "name": "stdout",
     "output_type": "stream",
     "text": [
      "<class 'int'>\n"
     ]
    }
   ],
   "source": [
    "print(type(x))"
   ]
  },
  {
   "cell_type": "code",
   "execution_count": 8,
   "id": "12891e0a-0ad2-4fee-968d-d725e9f0d0ab",
   "metadata": {},
   "outputs": [
    {
     "name": "stdout",
     "output_type": "stream",
     "text": [
      "8\n"
     ]
    }
   ],
   "source": [
    "print(x +3 )"
   ]
  },
  {
   "cell_type": "code",
   "execution_count": 10,
   "id": "4f63cc99-e573-4e37-b508-cae69902ee9c",
   "metadata": {},
   "outputs": [
    {
     "data": {
      "text/plain": [
       "'Amit'"
      ]
     },
     "execution_count": 10,
     "metadata": {},
     "output_type": "execute_result"
    }
   ],
   "source": [
    "x = \"Amit\"\n",
    "x"
   ]
  },
  {
   "cell_type": "code",
   "execution_count": 11,
   "id": "a5f5bb36-909a-4542-8ab9-5c59f2f053cd",
   "metadata": {},
   "outputs": [
    {
     "data": {
      "text/plain": [
       "2196872157744"
      ]
     },
     "execution_count": 11,
     "metadata": {},
     "output_type": "execute_result"
    }
   ],
   "source": [
    "id(x)"
   ]
  },
  {
   "cell_type": "markdown",
   "id": "d0e04e94-9656-4fc8-bff4-e0d8e3001c7b",
   "metadata": {},
   "source": [
    "# Type Casting\n",
    "\n",
    "## To change a variable type. Means from integer to string and vice-versa."
   ]
  },
  {
   "cell_type": "code",
   "execution_count": 19,
   "id": "6f0a534f-045f-436d-8b27-3a5f1b28db14",
   "metadata": {},
   "outputs": [
    {
     "name": "stdout",
     "output_type": "stream",
     "text": [
      "198\n",
      "<class 'int'>\n"
     ]
    }
   ],
   "source": [
    "a = 198\n",
    "print(a)\n",
    "print(type(a))"
   ]
  },
  {
   "cell_type": "code",
   "execution_count": 21,
   "id": "02730f1c-1fa4-47a2-8743-d3613ea83863",
   "metadata": {},
   "outputs": [],
   "source": [
    "# Typecasting\n",
    "a = str(a)"
   ]
  },
  {
   "cell_type": "code",
   "execution_count": 22,
   "id": "2375859e-abb0-41a1-9922-99c798317b36",
   "metadata": {},
   "outputs": [
    {
     "name": "stdout",
     "output_type": "stream",
     "text": [
      "198\n",
      "<class 'str'>\n"
     ]
    }
   ],
   "source": [
    "print(a)\n",
    "print(type(a))"
   ]
  },
  {
   "cell_type": "code",
   "execution_count": 23,
   "id": "91e3aefd-0be3-41ca-9f7a-f11f188792f3",
   "metadata": {},
   "outputs": [
    {
     "name": "stdout",
     "output_type": "stream",
     "text": [
      "198.0\n",
      "<class 'float'>\n"
     ]
    }
   ],
   "source": [
    "a = float(a)\n",
    "print(a)\n",
    "print(type(a))"
   ]
  },
  {
   "cell_type": "code",
   "execution_count": 24,
   "id": "122ad197-b57b-4464-82e4-e63ef5291be2",
   "metadata": {},
   "outputs": [
    {
     "name": "stdout",
     "output_type": "stream",
     "text": [
      "5\n",
      "140732706440104\n",
      "5\n",
      "140732706440104\n",
      "3\n",
      "140732706440040\n",
      "3\n",
      "140732706440040\n"
     ]
    }
   ],
   "source": [
    "a = 5\n",
    "print(a)\n",
    "print(id(a))\n",
    "A = 5\n",
    "print(A)\n",
    "print(id(A))\n",
    "a = 3\n",
    "print(a)\n",
    "print(id(a))\n",
    "A = 3\n",
    "print(A)\n",
    "print(id(A))"
   ]
  },
  {
   "cell_type": "code",
   "execution_count": 25,
   "id": "5641b161-c68e-4ab2-b939-6c801390582f",
   "metadata": {},
   "outputs": [],
   "source": [
    "My_Name = \"Abhishek\""
   ]
  }
 ],
 "metadata": {
  "kernelspec": {
   "display_name": "Python 3 (ipykernel)",
   "language": "python",
   "name": "python3"
  },
  "language_info": {
   "codemirror_mode": {
    "name": "ipython",
    "version": 3
   },
   "file_extension": ".py",
   "mimetype": "text/x-python",
   "name": "python",
   "nbconvert_exporter": "python",
   "pygments_lexer": "ipython3",
   "version": "3.11.7"
  }
 },
 "nbformat": 4,
 "nbformat_minor": 5
}
