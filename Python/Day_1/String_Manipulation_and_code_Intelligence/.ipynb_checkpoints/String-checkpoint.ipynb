{
 "cells": [
  {
   "cell_type": "code",
   "execution_count": 5,
   "id": "77e5d826-5ba9-4896-b712-443d949c1e84",
   "metadata": {},
   "outputs": [
    {
     "name": "stdout",
     "output_type": "stream",
     "text": [
      "Hello World!\n",
      "Hello World!\n",
      "Hello World!\n"
     ]
    }
   ],
   "source": [
    "# print(\"Hello World!\")\n",
    "# print(\"Hello World!\")\n",
    "# print(\"Hello World!\")\n",
    "\n",
    "# Instead of writing this 3 times we can use \"\\n\" which is a new line character for doing the same\n",
    "# thing in a single line of code\n",
    "\n",
    "print(\"Hello World!\\nHello World!\\nHello World!\")\n",
    "# print(\"Hello World! Hello World! Hello World!\")"
   ]
  },
  {
   "cell_type": "code",
   "execution_count": 14,
   "id": "64865418-80a9-4156-a20b-edd1968a6815",
   "metadata": {},
   "outputs": [
    {
     "name": "stdout",
     "output_type": "stream",
     "text": [
      "hello\n"
     ]
    }
   ],
   "source": [
    "# String --> Set of characters is called strings.\n",
    "# n = \"Amit\"\n",
    "# print(n)\n",
    "# print(type(n))\n",
    "# name = str('Abhishek')   #using str method\n",
    "# print(name)\n",
    "# print(type(name))\n",
    "\n",
    "\n",
    "# print(\"Hello\" + \"Abhishek\")  # There should be a space in between two words.\n",
    "\n",
    "#This would do the same with a space between two words.\n",
    "# print(\"Hello \" + \"Abhishek\") #Space in hello\n",
    "# print(\"Hello\" + \" Abhishek\") # Space before name\n",
    "# print(\"Hello\" + \" \" +\"Abhishek\") # Space in between two words\n",
    "\n",
    "# Spaces in python are quite important \n",
    "    # print(\"Hello World\") #this would give a error\n",
    "# print(\"hello\")\n",
    "\n",
    "\n",
    "# input() will get user input in console\n",
    "# Then print() will print the word \"Hello\" and the user input\n",
    "# print(\"Hello \" + input(\"What is your name?\"))\n",
    "\n",
    "\n",
    "# print(\"hello \" +input(\"what is your mail id? \"))"
   ]
  }
 ],
 "metadata": {
  "kernelspec": {
   "display_name": "Python 3 (ipykernel)",
   "language": "python",
   "name": "python3"
  },
  "language_info": {
   "codemirror_mode": {
    "name": "ipython",
    "version": 3
   },
   "file_extension": ".py",
   "mimetype": "text/x-python",
   "name": "python",
   "nbconvert_exporter": "python",
   "pygments_lexer": "ipython3",
   "version": "3.11.7"
  }
 },
 "nbformat": 4,
 "nbformat_minor": 5
}
