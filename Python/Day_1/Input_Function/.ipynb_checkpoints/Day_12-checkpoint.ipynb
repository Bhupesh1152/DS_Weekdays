{
 "cells": [
  {
   "cell_type": "code",
   "execution_count": 3,
   "id": "b79ecc2e-a371-45ee-a393-562f7a8e7bba",
   "metadata": {},
   "outputs": [
    {
     "name": "stdout",
     "output_type": "stream",
     "text": [
      "Sandeep\n"
     ]
    }
   ],
   "source": [
    "# Output function -- ye screen pe output deta h.\n",
    "print(\"Sandeep\") "
   ]
  },
  {
   "cell_type": "code",
   "execution_count": 4,
   "id": "4d262774-4c52-4588-bbab-231b048c9334",
   "metadata": {},
   "outputs": [
    {
     "name": "stdin",
     "output_type": "stream",
     "text": [
      "What is your name?  Sandeep\n"
     ]
    },
    {
     "data": {
      "text/plain": [
       "'Sandeep'"
      ]
     },
     "execution_count": 4,
     "metadata": {},
     "output_type": "execute_result"
    }
   ],
   "source": [
    "# input function -- ye user se (yani humlog) se input leta h\n",
    "input(\"What is your name? \")"
   ]
  },
  {
   "cell_type": "code",
   "execution_count": 5,
   "id": "9379d1b3-fcc9-49c7-91b3-0ba4526a056f",
   "metadata": {},
   "outputs": [],
   "source": [
    "Name = 'Sandeep'"
   ]
  },
  {
   "cell_type": "code",
   "execution_count": 6,
   "id": "52605db2-54e0-4b48-9353-cb01ce60cc13",
   "metadata": {},
   "outputs": [
    {
     "name": "stdout",
     "output_type": "stream",
     "text": [
      "S\n"
     ]
    }
   ],
   "source": [
    "print(Name[0])"
   ]
  },
  {
   "cell_type": "code",
   "execution_count": 7,
   "id": "cd7efca4-9555-4024-bdd6-0b89cd102102",
   "metadata": {},
   "outputs": [],
   "source": [
    "Roll_No = 12"
   ]
  },
  {
   "cell_type": "code",
   "execution_count": 8,
   "id": "2af4333c-5989-4ee6-812d-22c1a3de86a1",
   "metadata": {},
   "outputs": [],
   "source": [
    "Amount = 137.50"
   ]
  },
  {
   "cell_type": "code",
   "execution_count": 9,
   "id": "1b4a21b2-e410-48b0-8e12-bfc0f5f1e577",
   "metadata": {},
   "outputs": [],
   "source": [
    "List_items = [\"Matress\", \"Pillow\", \"Bucket\"]"
   ]
  },
  {
   "cell_type": "code",
   "execution_count": 10,
   "id": "ec52b4de-f15d-4a91-a430-53b6fddc4aa8",
   "metadata": {},
   "outputs": [
    {
     "name": "stdout",
     "output_type": "stream",
     "text": [
      "<class 'str'>\n"
     ]
    }
   ],
   "source": [
    "print(type(Name))"
   ]
  },
  {
   "cell_type": "code",
   "execution_count": 11,
   "id": "7663323d-a8cc-471b-8dde-da4f89189cf3",
   "metadata": {},
   "outputs": [
    {
     "name": "stdout",
     "output_type": "stream",
     "text": [
      "<class 'int'>\n"
     ]
    }
   ],
   "source": [
    "print(type(Roll_No))"
   ]
  },
  {
   "cell_type": "code",
   "execution_count": 12,
   "id": "9a26cda8-fa9e-42e0-87ff-2dab69a75f23",
   "metadata": {},
   "outputs": [
    {
     "name": "stdout",
     "output_type": "stream",
     "text": [
      "<class 'float'>\n"
     ]
    }
   ],
   "source": [
    "print(type(Amount))"
   ]
  },
  {
   "cell_type": "code",
   "execution_count": 13,
   "id": "5b186105-9ca5-414b-a779-f3445daa137a",
   "metadata": {},
   "outputs": [
    {
     "name": "stdout",
     "output_type": "stream",
     "text": [
      "<class 'list'>\n"
     ]
    }
   ],
   "source": [
    "print(type(List_items))"
   ]
  },
  {
   "cell_type": "code",
   "execution_count": 14,
   "id": "9ea7a7e9-7dee-4757-a18b-9a6193396420",
   "metadata": {},
   "outputs": [
    {
     "name": "stdout",
     "output_type": "stream",
     "text": [
      "The Zen of Python, by Tim Peters\n",
      "\n",
      "Beautiful is better than ugly.\n",
      "Explicit is better than implicit.\n",
      "Simple is better than complex.\n",
      "Complex is better than complicated.\n",
      "Flat is better than nested.\n",
      "Sparse is better than dense.\n",
      "Readability counts.\n",
      "Special cases aren't special enough to break the rules.\n",
      "Although practicality beats purity.\n",
      "Errors should never pass silently.\n",
      "Unless explicitly silenced.\n",
      "In the face of ambiguity, refuse the temptation to guess.\n",
      "There should be one-- and preferably only one --obvious way to do it.\n",
      "Although that way may not be obvious at first unless you're Dutch.\n",
      "Now is better than never.\n",
      "Although never is often better than *right* now.\n",
      "If the implementation is hard to explain, it's a bad idea.\n",
      "If the implementation is easy to explain, it may be a good idea.\n",
      "Namespaces are one honking great idea -- let's do more of those!\n"
     ]
    }
   ],
   "source": [
    "import this"
   ]
  },
  {
   "cell_type": "code",
   "execution_count": 16,
   "id": "873002e1-b697-4b8e-99e1-e2267d262648",
   "metadata": {},
   "outputs": [],
   "source": [
    "import keyword"
   ]
  },
  {
   "cell_type": "code",
   "execution_count": 18,
   "id": "3829c893-5efd-45d6-951a-9834563be2c3",
   "metadata": {},
   "outputs": [
    {
     "name": "stdout",
     "output_type": "stream",
     "text": [
      "['False', 'None', 'True', 'and', 'as', 'assert', 'async', 'await', 'break', 'class', 'continue', 'def', 'del', 'elif', 'else', 'except', 'finally', 'for', 'from', 'global', 'if', 'import', 'in', 'is', 'lambda', 'nonlocal', 'not', 'or', 'pass', 'raise', 'return', 'try', 'while', 'with', 'yield']\n"
     ]
    }
   ],
   "source": [
    "print(keyword.kwlist)"
   ]
  },
  {
   "cell_type": "code",
   "execution_count": 19,
   "id": "1cd24af3-9184-4e11-802e-2384a4a9de24",
   "metadata": {},
   "outputs": [],
   "source": [
    "Ram = Shyam = Ghanshyam = Niyaz = 65"
   ]
  },
  {
   "cell_type": "code",
   "execution_count": 25,
   "id": "22f6d0f3-faef-413c-8d22-fdf3c4a5fc12",
   "metadata": {},
   "outputs": [
    {
     "data": {
      "text/plain": [
       "65"
      ]
     },
     "execution_count": 25,
     "metadata": {},
     "output_type": "execute_result"
    }
   ],
   "source": [
    "# This is not recommended\n",
    "Ram"
   ]
  },
  {
   "cell_type": "code",
   "execution_count": 21,
   "id": "90366694-20d3-4c51-bc87-30e22d88c26b",
   "metadata": {},
   "outputs": [
    {
     "data": {
      "text/plain": [
       "65"
      ]
     },
     "execution_count": 21,
     "metadata": {},
     "output_type": "execute_result"
    }
   ],
   "source": [
    "Shyam"
   ]
  },
  {
   "cell_type": "code",
   "execution_count": 22,
   "id": "903fb8f2-a286-4c36-b8c7-e568ee113314",
   "metadata": {},
   "outputs": [
    {
     "data": {
      "text/plain": [
       "65"
      ]
     },
     "execution_count": 22,
     "metadata": {},
     "output_type": "execute_result"
    }
   ],
   "source": [
    "Ghanshyam"
   ]
  },
  {
   "cell_type": "code",
   "execution_count": 23,
   "id": "acdc7291-9a2f-4b96-ac9a-52c2a2bdc74b",
   "metadata": {},
   "outputs": [
    {
     "name": "stdout",
     "output_type": "stream",
     "text": [
      "65\n"
     ]
    }
   ],
   "source": [
    "print(Niyaz)"
   ]
  },
  {
   "cell_type": "code",
   "execution_count": 36,
   "id": "929c409d-0c42-48e4-af0d-984c4dceff2a",
   "metadata": {},
   "outputs": [],
   "source": [
    "Amit, Abhishek = 85, 86"
   ]
  },
  {
   "cell_type": "code",
   "execution_count": 27,
   "id": "995fd43d-9ad5-406d-acde-aeea61bc16b1",
   "metadata": {},
   "outputs": [
    {
     "data": {
      "text/plain": [
       "85"
      ]
     },
     "execution_count": 27,
     "metadata": {},
     "output_type": "execute_result"
    }
   ],
   "source": [
    "Amit"
   ]
  },
  {
   "cell_type": "code",
   "execution_count": 29,
   "id": "fe414436-8421-4321-aad5-57f43467f047",
   "metadata": {},
   "outputs": [
    {
     "data": {
      "text/plain": [
       "86"
      ]
     },
     "execution_count": 29,
     "metadata": {},
     "output_type": "execute_result"
    }
   ],
   "source": [
    "Abhishek"
   ]
  },
  {
   "cell_type": "code",
   "execution_count": 37,
   "id": "1a92e861-4a88-47a4-8dd8-30d79466b945",
   "metadata": {},
   "outputs": [
    {
     "ename": "ValueError",
     "evalue": "too many values to unpack (expected 1)",
     "output_type": "error",
     "traceback": [
      "\u001b[1;31m---------------------------------------------------------------------------\u001b[0m",
      "\u001b[1;31mValueError\u001b[0m                                Traceback (most recent call last)",
      "Cell \u001b[1;32mIn[37], line 1\u001b[0m\n\u001b[1;32m----> 1\u001b[0m Amit, \u001b[38;5;241m=\u001b[39m \u001b[38;5;241m85\u001b[39m, \u001b[38;5;241m86\u001b[39m\n",
      "\u001b[1;31mValueError\u001b[0m: too many values to unpack (expected 1)"
     ]
    }
   ],
   "source": [
    "Amit, = 85, 86"
   ]
  },
  {
   "cell_type": "code",
   "execution_count": 38,
   "id": "18a19999-41eb-4914-855c-2975b3837c63",
   "metadata": {},
   "outputs": [
    {
     "ename": "TypeError",
     "evalue": "cannot unpack non-iterable int object",
     "output_type": "error",
     "traceback": [
      "\u001b[1;31m---------------------------------------------------------------------------\u001b[0m",
      "\u001b[1;31mTypeError\u001b[0m                                 Traceback (most recent call last)",
      "Cell \u001b[1;32mIn[38], line 1\u001b[0m\n\u001b[1;32m----> 1\u001b[0m Amit, Abhishek \u001b[38;5;241m=\u001b[39m \u001b[38;5;241m85\u001b[39m\n",
      "\u001b[1;31mTypeError\u001b[0m: cannot unpack non-iterable int object"
     ]
    }
   ],
   "source": [
    "Amit, Abhishek = 85"
   ]
  },
  {
   "cell_type": "code",
   "execution_count": 39,
   "id": "dac4109d-d145-4864-a477-e53feae8077f",
   "metadata": {},
   "outputs": [],
   "source": [
    "Type_Error = 5"
   ]
  },
  {
   "cell_type": "code",
   "execution_count": 40,
   "id": "caa98ed1-f561-4f7e-8b17-c7d3058b9967",
   "metadata": {},
   "outputs": [
    {
     "data": {
      "text/plain": [
       "5"
      ]
     },
     "execution_count": 40,
     "metadata": {},
     "output_type": "execute_result"
    }
   ],
   "source": [
    "Type_Error"
   ]
  },
  {
   "cell_type": "code",
   "execution_count": null,
   "id": "5607f465-c631-44e7-bdee-0213f845f1d1",
   "metadata": {},
   "outputs": [],
   "source": []
  }
 ],
 "metadata": {
  "kernelspec": {
   "display_name": "Python 3 (ipykernel)",
   "language": "python",
   "name": "python3"
  },
  "language_info": {
   "codemirror_mode": {
    "name": "ipython",
    "version": 3
   },
   "file_extension": ".py",
   "mimetype": "text/x-python",
   "name": "python",
   "nbconvert_exporter": "python",
   "pygments_lexer": "ipython3",
   "version": "3.11.7"
  }
 },
 "nbformat": 4,
 "nbformat_minor": 5
}
