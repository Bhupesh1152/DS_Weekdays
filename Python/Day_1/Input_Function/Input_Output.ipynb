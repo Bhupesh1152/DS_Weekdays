{
 "cells": [
  {
   "cell_type": "code",
   "execution_count": 2,
   "id": "b99e80ab-4445-47eb-97b3-9b030216552d",
   "metadata": {},
   "outputs": [
    {
     "name": "stdout",
     "output_type": "stream",
     "text": [
      "What is your name?\n"
     ]
    }
   ],
   "source": [
    "# print()--> output deta h -- jo isk andr rkhe ye wo dikha dega\n",
    "print(\"What is your name?\")\n",
    "\n",
    "# print() --> Syntax ---> Sematics ---> It gives output on screen.\n",
    "\n",
    "# some wrong syntaxes\n",
    "# Print()\n",
    "# pRint[]\n",
    "# PRINt{}"
   ]
  },
  {
   "cell_type": "code",
   "execution_count": 3,
   "id": "cb0f8ee1-1d3c-446d-a968-bf8c2ae7f61a",
   "metadata": {},
   "outputs": [
    {
     "name": "stdout",
     "output_type": "stream",
     "text": [
      "5\n"
     ]
    }
   ],
   "source": [
    "print(2+3)"
   ]
  },
  {
   "cell_type": "code",
   "execution_count": 4,
   "id": "24def4b2-0bf2-41f3-b778-44c823b9678c",
   "metadata": {},
   "outputs": [
    {
     "data": {
      "text/plain": [
       "15"
      ]
     },
     "execution_count": 4,
     "metadata": {},
     "output_type": "execute_result"
    }
   ],
   "source": [
    "6 + 9"
   ]
  },
  {
   "cell_type": "code",
   "execution_count": 5,
   "id": "3ef90145-78db-4183-a2f4-cdb562095748",
   "metadata": {},
   "outputs": [
    {
     "data": {
      "text/plain": [
       "1"
      ]
     },
     "execution_count": 5,
     "metadata": {},
     "output_type": "execute_result"
    }
   ],
   "source": [
    "5-4"
   ]
  },
  {
   "cell_type": "code",
   "execution_count": 6,
   "id": "50729039-a3f6-4173-bc3a-6c94484a3966",
   "metadata": {},
   "outputs": [
    {
     "data": {
      "text/plain": [
       "1.2"
      ]
     },
     "execution_count": 6,
     "metadata": {},
     "output_type": "execute_result"
    }
   ],
   "source": [
    "6/5"
   ]
  },
  {
   "cell_type": "code",
   "execution_count": 1,
   "id": "6faf03c2-a997-40ba-9c05-3a90393bf07b",
   "metadata": {},
   "outputs": [
    {
     "name": "stdin",
     "output_type": "stream",
     "text": [
      "What is your name?  Abhishek\n"
     ]
    },
    {
     "data": {
      "text/plain": [
       "'Abhishek'"
      ]
     },
     "execution_count": 1,
     "metadata": {},
     "output_type": "execute_result"
    }
   ],
   "source": [
    "# input(\"A prompt for the user\")\n",
    "\n",
    "input(\"What is your name? \")"
   ]
  },
  {
   "cell_type": "code",
   "execution_count": 3,
   "id": "f792f10a-e43d-4b5b-a83a-4f4e43eb7ef1",
   "metadata": {},
   "outputs": [
    {
     "name": "stdin",
     "output_type": "stream",
     "text": [
      "What is your name? Sajid\n"
     ]
    },
    {
     "name": "stdout",
     "output_type": "stream",
     "text": [
      "Hello Sajid\n"
     ]
    }
   ],
   "source": [
    "print(\"Hello \" + input(\"What is your name?\"))"
   ]
  },
  {
   "cell_type": "code",
   "execution_count": 2,
   "id": "52c27f7f-4262-4028-ad5f-c1a60a1c909a",
   "metadata": {},
   "outputs": [
    {
     "name": "stdin",
     "output_type": "stream",
     "text": [
      "what's you ph no. 72376213\n"
     ]
    },
    {
     "data": {
      "text/plain": [
       "'72376213'"
      ]
     },
     "execution_count": 2,
     "metadata": {},
     "output_type": "execute_result"
    }
   ],
   "source": [
    "input(\"what's you ph no.\")"
   ]
  }
 ],
 "metadata": {
  "kernelspec": {
   "display_name": "Python 3 (ipykernel)",
   "language": "python",
   "name": "python3"
  },
  "language_info": {
   "codemirror_mode": {
    "name": "ipython",
    "version": 3
   },
   "file_extension": ".py",
   "mimetype": "text/x-python",
   "name": "python",
   "nbconvert_exporter": "python",
   "pygments_lexer": "ipython3",
   "version": "3.11.7"
  }
 },
 "nbformat": 4,
 "nbformat_minor": 5
}
