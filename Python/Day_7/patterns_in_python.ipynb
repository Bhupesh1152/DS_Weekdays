{
  "nbformat": 4,
  "nbformat_minor": 0,
  "metadata": {
    "colab": {
      "provenance": []
    },
    "kernelspec": {
      "name": "python3",
      "display_name": "Python 3"
    },
    "language_info": {
      "name": "python"
    }
  },
  "cells": [
    {
      "cell_type": "code",
      "execution_count": 1,
      "metadata": {
        "colab": {
          "base_uri": "https://localhost:8080/"
        },
        "id": "NV5rHAQnC4gW",
        "outputId": "1b754aba-cdb9-46bb-ce12-2cf3b307458c"
      },
      "outputs": [
        {
          "output_type": "stream",
          "name": "stdout",
          "text": [
            "Enter the number of rows: 5\n",
            "* \n",
            "* * \n",
            "* * * \n",
            "* * * * \n",
            "* * * * * \n"
          ]
        }
      ],
      "source": [
        "n = int(input(\"Enter the number of rows: \"))\n",
        "\n",
        "for i in range(0, n):\n",
        "    for j in range(0, i+1):\n",
        "        print(\"* \", end=\"\")\n",
        "    print()"
      ]
    },
    {
      "cell_type": "code",
      "source": [
        "n = int(input(\"Enter the number of rows: \"))\n",
        "m = (2 * n) - 2\n",
        "\n",
        "for i in range(0, n):\n",
        "    for j in range(0, m):\n",
        "        print(end=\" \")\n",
        "    m = m - 1\n",
        "    for j in range(0, i+ 1):\n",
        "        print(\"* \", end=' ')\n",
        "    print()"
      ],
      "metadata": {
        "colab": {
          "base_uri": "https://localhost:8080/"
        },
        "id": "tJ9r4QG7IlxM",
        "outputId": "d8958b76-62db-41b1-9033-4425db6fc869"
      },
      "execution_count": 2,
      "outputs": [
        {
          "output_type": "stream",
          "name": "stdout",
          "text": [
            "Enter the number of rows: 5\n",
            "        *  \n",
            "       *  *  \n",
            "      *  *  *  \n",
            "     *  *  *  *  \n",
            "    *  *  *  *  *  \n"
          ]
        }
      ]
    },
    {
      "cell_type": "code",
      "source": [
        "# Function to print full pyramid pattern\n",
        "def full_pyramid(n):\n",
        "    for i in range(1, n + 1):\n",
        "        # Print leading spaces\n",
        "        for j in range(n - i):\n",
        "            print(\" \", end=\"\")\n",
        "\n",
        "        # Print asterisks for the current row\n",
        "        for k in range(1, 2*i):\n",
        "            print(\"*\", end=\"\")\n",
        "        print()\n",
        "\n",
        "full_pyramid(5)\n"
      ],
      "metadata": {
        "colab": {
          "base_uri": "https://localhost:8080/"
        },
        "id": "MFvH2gBeKElR",
        "outputId": "f98585df-1ef3-4b2f-fb3d-957ad6951164"
      },
      "execution_count": 3,
      "outputs": [
        {
          "output_type": "stream",
          "name": "stdout",
          "text": [
            "    *\n",
            "   ***\n",
            "  *****\n",
            " *******\n",
            "*********\n"
          ]
        }
      ]
    },
    {
      "cell_type": "code",
      "source": [
        "import keyword"
      ],
      "metadata": {
        "id": "tr9f26hdLGmR"
      },
      "execution_count": 5,
      "outputs": []
    },
    {
      "cell_type": "code",
      "source": [
        "print(keyword.kwlist)"
      ],
      "metadata": {
        "colab": {
          "base_uri": "https://localhost:8080/"
        },
        "id": "5qiJsxNPMU_l",
        "outputId": "5309f161-362f-40da-e151-4cbcd0ba5b6f"
      },
      "execution_count": 6,
      "outputs": [
        {
          "output_type": "stream",
          "name": "stdout",
          "text": [
            "['False', 'None', 'True', 'and', 'as', 'assert', 'async', 'await', 'break', 'class', 'continue', 'def', 'del', 'elif', 'else', 'except', 'finally', 'for', 'from', 'global', 'if', 'import', 'in', 'is', 'lambda', 'nonlocal', 'not', 'or', 'pass', 'raise', 'return', 'try', 'while', 'with', 'yield']\n"
          ]
        }
      ]
    },
    {
      "cell_type": "code",
      "source": [
        "def simple_intrest(P, R, T):\n",
        "  return ((P * R * T)/100)"
      ],
      "metadata": {
        "id": "hHdHPPb-Mb8c"
      },
      "execution_count": 7,
      "outputs": []
    },
    {
      "cell_type": "code",
      "source": [
        "simple_intrest(P = 5000, R = 12.5, T = 5)"
      ],
      "metadata": {
        "colab": {
          "base_uri": "https://localhost:8080/"
        },
        "id": "jzSNyFHANUWY",
        "outputId": "4a94850d-8853-41aa-a535-bc022cddb18f"
      },
      "execution_count": 8,
      "outputs": [
        {
          "output_type": "execute_result",
          "data": {
            "text/plain": [
              "3125.0"
            ]
          },
          "metadata": {},
          "execution_count": 8
        }
      ]
    },
    {
      "cell_type": "code",
      "source": [
        "simple_intrest(5000, 12.5, 5)"
      ],
      "metadata": {
        "colab": {
          "base_uri": "https://localhost:8080/"
        },
        "id": "NbNoXF5tNe4j",
        "outputId": "91a4adce-f109-4a1f-dc2a-deb993524347"
      },
      "execution_count": 9,
      "outputs": [
        {
          "output_type": "execute_result",
          "data": {
            "text/plain": [
              "3125.0"
            ]
          },
          "metadata": {},
          "execution_count": 9
        }
      ]
    },
    {
      "cell_type": "code",
      "source": [
        "def simple_intrest(P, R, T):\n",
        "  pass"
      ],
      "metadata": {
        "id": "5n4S5bLTNoBK"
      },
      "execution_count": 10,
      "outputs": []
    },
    {
      "cell_type": "code",
      "source": [
        "def Sum(a,b):\n",
        "  print(a+b)"
      ],
      "metadata": {
        "id": "9WCMV138OCNa"
      },
      "execution_count": 11,
      "outputs": []
    },
    {
      "cell_type": "code",
      "source": [
        "Sum(5,6)"
      ],
      "metadata": {
        "colab": {
          "base_uri": "https://localhost:8080/"
        },
        "id": "2TZ_2XBpP1At",
        "outputId": "03c592ab-58ff-4d55-b8ae-2a2abd359ce1"
      },
      "execution_count": 13,
      "outputs": [
        {
          "output_type": "stream",
          "name": "stdout",
          "text": [
            "11\n"
          ]
        }
      ]
    },
    {
      "cell_type": "code",
      "source": [
        "def Sum(*n):\n",
        "  print(n*2)"
      ],
      "metadata": {
        "id": "82Z1d48bP2uz"
      },
      "execution_count": 16,
      "outputs": []
    },
    {
      "cell_type": "code",
      "source": [
        "Sum(4,5,6,7)"
      ],
      "metadata": {
        "colab": {
          "base_uri": "https://localhost:8080/"
        },
        "id": "evExjfXoRT2l",
        "outputId": "1851ae0b-70cf-4a88-c2e7-53d046378f64"
      },
      "execution_count": 17,
      "outputs": [
        {
          "output_type": "stream",
          "name": "stdout",
          "text": [
            "(4, 5, 6, 7, 4, 5, 6, 7)\n"
          ]
        }
      ]
    },
    {
      "cell_type": "code",
      "source": [
        "def Sum(**a):\n",
        "  print(a)"
      ],
      "metadata": {
        "id": "LL_zS30QRWyy"
      },
      "execution_count": 26,
      "outputs": []
    },
    {
      "cell_type": "code",
      "source": [
        "Sum(a = 5, b = 7, c = 8)"
      ],
      "metadata": {
        "colab": {
          "base_uri": "https://localhost:8080/"
        },
        "id": "rJUdYHQSRqaG",
        "outputId": "ebf74133-a27a-4280-97f7-83fc56cd368b"
      },
      "execution_count": 28,
      "outputs": [
        {
          "output_type": "stream",
          "name": "stdout",
          "text": [
            "{'a': 5, 'b': 7, 'c': 8}\n"
          ]
        }
      ]
    },
    {
      "cell_type": "code",
      "source": [
        "def my_function(country = \"Norway\"):\n",
        "  print(\"I am from \" + country)\n",
        "\n",
        "my_function(\"Sweden\")\n",
        "my_function(\"India\")\n",
        "my_function()\n",
        "my_function(\"Brazil\")"
      ],
      "metadata": {
        "colab": {
          "base_uri": "https://localhost:8080/"
        },
        "id": "7_oxdIFXRuY7",
        "outputId": "7c33bbe6-acfd-48f7-9dfe-6f21bc02415c"
      },
      "execution_count": 29,
      "outputs": [
        {
          "output_type": "stream",
          "name": "stdout",
          "text": [
            "I am from Sweden\n",
            "I am from India\n",
            "I am from Norway\n",
            "I am from Brazil\n"
          ]
        }
      ]
    },
    {
      "cell_type": "code",
      "source": [
        "# Python 3 program to find\n",
        "# factorial of given number\n",
        "def factorial(n):\n",
        "\n",
        "\t# Checking the number\n",
        "\t# is 1 or 0 then\n",
        "\t# return 1\n",
        "\t# other wise return\n",
        "\t# factorial\n",
        "\tif (n==1 or n==0):\n",
        "\n",
        "\t\treturn 1\n",
        "\n",
        "\telse:\n",
        "\n",
        "\t\treturn (n * factorial(n - 1))\n",
        "\n",
        "# Driver Code\n",
        "num = 5;\n",
        "print(\"number : \",num)\n",
        "print(\"Factorial : \",factorial(num))\n"
      ],
      "metadata": {
        "id": "5hQlEVtASjLs"
      },
      "execution_count": null,
      "outputs": []
    },
    {
      "cell_type": "code",
      "source": [],
      "metadata": {
        "id": "fI63E9ttXBr5"
      },
      "execution_count": null,
      "outputs": []
    }
  ]
}