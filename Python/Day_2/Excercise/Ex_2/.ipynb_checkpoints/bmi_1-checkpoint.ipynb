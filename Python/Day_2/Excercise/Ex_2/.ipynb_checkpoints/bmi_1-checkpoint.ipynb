{
 "cells": [
  {
   "cell_type": "code",
   "execution_count": 1,
   "id": "19bcbabd-b611-4cd9-b24e-d227b634d916",
   "metadata": {},
   "outputs": [
    {
     "name": "stdin",
     "output_type": "stream",
     "text": [
      " 1.6\n",
      " 75\n"
     ]
    },
    {
     "name": "stdout",
     "output_type": "stream",
     "text": [
      "29\n"
     ]
    }
   ],
   "source": [
    "height = input()\n",
    "weight = input()\n",
    "# Your code below this line 👇\n",
    "weight_as_int = int(weight)\n",
    "height_as_float = float(height)\n",
    "# Using the exponent operator **\n",
    "bmi = weight_as_int / height_as_float ** 2\n",
    "# or using multiplication and PEMDAS\n",
    "bmi = weight_as_int / (height_as_float * height_as_float)\n",
    "\n",
    "bmi_as_int = int(bmi)\n",
    "print(bmi_as_int)"
   ]
  }
 ],
 "metadata": {
  "kernelspec": {
   "display_name": "Python 3 (ipykernel)",
   "language": "python",
   "name": "python3"
  },
  "language_info": {
   "codemirror_mode": {
    "name": "ipython",
    "version": 3
   },
   "file_extension": ".py",
   "mimetype": "text/x-python",
   "name": "python",
   "nbconvert_exporter": "python",
   "pygments_lexer": "ipython3",
   "version": "3.11.7"
  }
 },
 "nbformat": 4,
 "nbformat_minor": 5
}
