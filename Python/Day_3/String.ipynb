{
 "cells": [
  {
   "cell_type": "code",
   "execution_count": 2,
   "id": "baf7c434-f2ea-4eda-a159-7291e3edc81e",
   "metadata": {},
   "outputs": [
    {
     "name": "stdout",
     "output_type": "stream",
     "text": [
      "B\n",
      "h\n",
      "a\n",
      "u\n",
      "k\n",
      "a\n",
      "l\n",
      " \n",
      "h\n",
      "a\n",
      "i\n",
      " \n",
      "H\n",
      "a\n",
      "m\n",
      "a\n",
      "r\n",
      "a\n"
     ]
    }
   ],
   "source": [
    "# Loop through string\n",
    "x = \"Bhaukal hai Hamara\"\n",
    "\n",
    "for i in x:\n",
    "    print(i)"
   ]
  },
  {
   "cell_type": "code",
   "execution_count": 9,
   "id": "2836227f-09a3-4497-a6e8-72a3da8d16f5",
   "metadata": {},
   "outputs": [
    {
     "name": "stdout",
     "output_type": "stream",
     "text": [
      "7\n"
     ]
    }
   ],
   "source": [
    "a = \"Kaam 25\"\n",
    "\n",
    "print(len(a))\n",
    "\n",
    "# print(a[0:4])\n",
    "# print(a[5:7])"
   ]
  },
  {
   "cell_type": "code",
   "execution_count": 8,
   "id": "6e4cf935-8626-4590-bd51-6cebb23cff9b",
   "metadata": {},
   "outputs": [
    {
     "name": "stdout",
     "output_type": "stream",
     "text": [
      "Kaam\n",
      "25\n"
     ]
    }
   ],
   "source": [
    "print(a[:4])\n",
    "print(a[5:])"
   ]
  },
  {
   "cell_type": "code",
   "execution_count": 12,
   "id": "35358020-3d5f-4f10-a0aa-a833b21125cf",
   "metadata": {},
   "outputs": [
    {
     "name": "stdout",
     "output_type": "stream",
     "text": [
      "Km5\n",
      "25\n"
     ]
    }
   ],
   "source": [
    "print(a[:7:3])\n",
    "print(a[5:])"
   ]
  },
  {
   "cell_type": "code",
   "execution_count": 13,
   "id": "3192e3ae-2ac8-48c9-b931-3cfdb6fc80d5",
   "metadata": {},
   "outputs": [
    {
     "data": {
      "text/plain": [
       "'Kaam 25'"
      ]
     },
     "execution_count": 13,
     "metadata": {},
     "output_type": "execute_result"
    }
   ],
   "source": [
    "a"
   ]
  },
  {
   "cell_type": "code",
   "execution_count": 14,
   "id": "b0dec6d8-7d33-4ad8-bb39-2e49dd4573ba",
   "metadata": {},
   "outputs": [
    {
     "data": {
      "text/plain": [
       "'KAAM 25'"
      ]
     },
     "execution_count": 14,
     "metadata": {},
     "output_type": "execute_result"
    }
   ],
   "source": [
    "a.upper()"
   ]
  },
  {
   "cell_type": "code",
   "execution_count": 15,
   "id": "8b2f55d8-3ddb-4c47-a770-905e26b1034f",
   "metadata": {},
   "outputs": [
    {
     "data": {
      "text/plain": [
       "'kaam 25'"
      ]
     },
     "execution_count": 15,
     "metadata": {},
     "output_type": "execute_result"
    }
   ],
   "source": [
    "a.lower()"
   ]
  },
  {
   "cell_type": "code",
   "execution_count": 16,
   "id": "f2da1e6b-0388-4822-99af-8f034a570aff",
   "metadata": {},
   "outputs": [
    {
     "data": {
      "text/plain": [
       "'                         Sajid                                             '"
      ]
     },
     "execution_count": 16,
     "metadata": {},
     "output_type": "execute_result"
    }
   ],
   "source": [
    "b = '                         Sajid                                             '\n",
    "b"
   ]
  },
  {
   "cell_type": "code",
   "execution_count": 17,
   "id": "adb6101f-ac89-494c-ba69-2091f14b0b48",
   "metadata": {},
   "outputs": [
    {
     "data": {
      "text/plain": [
       "'Sajid'"
      ]
     },
     "execution_count": 17,
     "metadata": {},
     "output_type": "execute_result"
    }
   ],
   "source": [
    "b.strip()"
   ]
  },
  {
   "cell_type": "code",
   "execution_count": 18,
   "id": "2252aba7-419c-48d8-b41b-1f80422d5a48",
   "metadata": {},
   "outputs": [
    {
     "data": {
      "text/plain": [
       "'                         Sahid                                             '"
      ]
     },
     "execution_count": 18,
     "metadata": {},
     "output_type": "execute_result"
    }
   ],
   "source": [
    "b.replace('j','h')"
   ]
  },
  {
   "cell_type": "code",
   "execution_count": 19,
   "id": "cf2fe93d-e876-4721-9a3c-bfef052690bf",
   "metadata": {},
   "outputs": [
    {
     "name": "stdout",
     "output_type": "stream",
     "text": [
      "abhishekupadhayay\n"
     ]
    }
   ],
   "source": [
    "e = \"abhishek\"\n",
    "f = \"upadhayay\"\n",
    "\n",
    "g = e+f\n",
    "print(g)"
   ]
  },
  {
   "cell_type": "code",
   "execution_count": 20,
   "id": "8108c33f-8a50-4030-bf83-6359887dd42e",
   "metadata": {},
   "outputs": [
    {
     "name": "stdout",
     "output_type": "stream",
     "text": [
      "abhishek upadhayay\n"
     ]
    }
   ],
   "source": [
    "e = \"abhishek\"\n",
    "f = \"upadhayay\"\n",
    "\n",
    "g = e+' '+f\n",
    "print(g)"
   ]
  },
  {
   "cell_type": "code",
   "execution_count": 21,
   "id": "ee107601-775a-4dde-b582-79b8265c13b6",
   "metadata": {},
   "outputs": [
    {
     "name": "stdout",
     "output_type": "stream",
     "text": [
      "abhishek upadhayay\n"
     ]
    }
   ],
   "source": [
    "e = \"abhishek \"\n",
    "f = \"upadhayay\"\n",
    "\n",
    "g = e+f\n",
    "print(g)"
   ]
  },
  {
   "cell_type": "code",
   "execution_count": 22,
   "id": "5b6a6760-6c76-486e-9455-1905fa084eed",
   "metadata": {},
   "outputs": [
    {
     "name": "stdout",
     "output_type": "stream",
     "text": [
      "abhishek upadhayay\n"
     ]
    }
   ],
   "source": [
    "e = \"abhishek\"\n",
    "f = \" upadhayay\"\n",
    "\n",
    "g = e+f\n",
    "print(g)"
   ]
  }
 ],
 "metadata": {
  "kernelspec": {
   "display_name": "Python 3 (ipykernel)",
   "language": "python",
   "name": "python3"
  },
  "language_info": {
   "codemirror_mode": {
    "name": "ipython",
    "version": 3
   },
   "file_extension": ".py",
   "mimetype": "text/x-python",
   "name": "python",
   "nbconvert_exporter": "python",
   "pygments_lexer": "ipython3",
   "version": "3.11.7"
  }
 },
 "nbformat": 4,
 "nbformat_minor": 5
}
